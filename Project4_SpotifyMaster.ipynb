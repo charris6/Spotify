{
  "nbformat": 4,
  "nbformat_minor": 0,
  "metadata": {
    "colab": {
      "provenance": [],
      "include_colab_link": true
    },
    "kernelspec": {
      "name": "python3",
      "display_name": "Python 3"
    },
    "language_info": {
      "name": "python"
    }
  },
  "cells": [
    {
      "cell_type": "markdown",
      "metadata": {
        "id": "view-in-github",
        "colab_type": "text"
      },
      "source": [
        "<a href=\"https://colab.research.google.com/github/charris6/Spotify/blob/main/Project4_SpotifyMaster.ipynb\" target=\"_parent\"><img src=\"https://colab.research.google.com/assets/colab-badge.svg\" alt=\"Open In Colab\"/></a>"
      ]
    },
    {
      "cell_type": "markdown",
      "source": [
        "# Project 4: Music Popularity Prediction\n"
      ],
      "metadata": {
        "id": "6sCrNddxPwlq"
      }
    },
    {
      "cell_type": "markdown",
      "source": [
        "This project will take data features collected for songs that have been on the Top 200 Weekly (Global) charts of Spotify in 2020 & 2021. The popularity of the song will be predicted using a tree-based regression model trained on these features.\n",
        "\n"
      ],
      "metadata": {
        "id": "8UPecEYfPzhP"
      }
    },
    {
      "cell_type": "markdown",
      "source": [
        "The goals for the project are:\n",
        "\n",
        "- Minimize the cross-validated ***root mean squared error ( RMSE )*** when predicting the popularity of a new song.\n",
        "\n",
        "- Determine the importance of the features in driving the regression result.\n",
        "The project should be done using tree-based regression techniques as covered in class. The parameters of the trees should be carefully selected to avoid over-fitting.\n"
      ],
      "metadata": {
        "id": "R5ioPcItQRC_"
      }
    },
    {
      "cell_type": "markdown",
      "source": [
        "There are two main challenges for this project:\n",
        "\n",
        "1. Choosing appropriate predictors. When building a machine learning model, we want to make sure that we consider how the model will be ultimately used. For this project, we are predicting the popularity of a new song. Therefore, we should only include the predictors we would have for a new song.\n",
        "\n",
        "1. Data cleaning and feature engineering. Some creative cleaning and/or feature engineering may be needed to extract useful information for prediction.\n",
        "\n"
      ],
      "metadata": {
        "id": "eOcpmrgYQSOQ"
      }
    },
    {
      "cell_type": "markdown",
      "source": [
        "Once again, be sure to go through the whole data science process and document as such in your Jupyter notebook.\n",
        "\n",
        "The data is available AWS at https://ddc-datascience.s3.amazonaws.com/Projects/Project.4-Spotify/Data/Spotify.csv .\n",
        "\n"
      ],
      "metadata": {
        "id": "ObZe5DVAQTUU"
      }
    },
    {
      "cell_type": "markdown",
      "source": [
        "##Business Problem"
      ],
      "metadata": {
        "id": "4Sgwf5a7lOnI"
      }
    },
    {
      "cell_type": "markdown",
      "source": [
        "We've been given a dataset from Spotify tracking several variables about individual songs. These include both performance metrics like total streams and charting, as well as analysis on each song's composition measuring things like acousticness, tempo, etc. From this we've been tasked with determining what makes a song popular. We'll be using supervised regression models tuned with a goal of lowering our RMSE."
      ],
      "metadata": {
        "id": "pXHmKFOrlS6m"
      }
    },
    {
      "cell_type": "markdown",
      "source": [
        "##Imports"
      ],
      "metadata": {
        "id": "2b3ZG-3im6xf"
      }
    },
    {
      "cell_type": "code",
      "source": [
        "import pandas as pd\n",
        "import statsmodels.api as sm\n",
        "import numpy as np\n",
        "import seaborn as sns\n",
        "import matplotlib.pyplot as plt\n",
        "from sklearn.model_selection import train_test_split\n",
        "from sklearn.tree import DecisionTreeRegressor\n",
        "from sklearn.metrics import mean_squared_error\n",
        "from sklearn.ensemble import RandomForestRegressor\n",
        "import xgboost as xgb\n",
        "from xgboost import XGBRegressor\n",
        "from sklearn.model_selection import cross_val_score\n",
        "import plotly.express as px"
      ],
      "metadata": {
        "id": "GerGVCN1VkaJ"
      },
      "execution_count": 278,
      "outputs": []
    },
    {
      "cell_type": "code",
      "source": [
        "url = \"https://ddc-datascience.s3.amazonaws.com/Projects/Project.4-Spotify/Data/Spotify.csv\"\n",
        "!curl -s -I {url}"
      ],
      "metadata": {
        "id": "qsJROnL1Qz_a",
        "colab": {
          "base_uri": "https://localhost:8080/"
        },
        "outputId": "041f7c48-02cd-4fa9-a69d-c87626ff68cc"
      },
      "execution_count": 279,
      "outputs": [
        {
          "output_type": "stream",
          "name": "stdout",
          "text": [
            "HTTP/1.1 200 OK\r\n",
            "\u001b[1mx-amz-id-2\u001b[0m: 6VWGo33IcuWvUB/o8uuO/uTD0n+Y53Wv0M38ZsSCy+UFOACxF3nOe3SBschJCJZnxsGSR9Li0+4=\r\n",
            "\u001b[1mx-amz-request-id\u001b[0m: A5YJQHZQM9AWT3ZJ\r\n",
            "\u001b[1mDate\u001b[0m: Wed, 06 Mar 2024 17:40:41 GMT\r\n",
            "\u001b[1mLast-Modified\u001b[0m: Wed, 04 Oct 2023 17:23:56 GMT\r\n",
            "\u001b[1mETag\u001b[0m: \"65b9875b11e0d7ea03ee2af024f45e99\"\r\n",
            "\u001b[1mx-amz-server-side-encryption\u001b[0m: AES256\r\n",
            "\u001b[1mAccept-Ranges\u001b[0m: bytes\r\n",
            "\u001b[1mContent-Type\u001b[0m: text/csv\r\n",
            "\u001b[1mServer\u001b[0m: AmazonS3\r\n",
            "\u001b[1mContent-Length\u001b[0m: 738124\r\n",
            "\r\n"
          ]
        }
      ]
    },
    {
      "cell_type": "markdown",
      "source": [
        "##EDA"
      ],
      "metadata": {
        "id": "fK0VqxV9nJfQ"
      }
    },
    {
      "cell_type": "markdown",
      "source": [
        "First thing is selecting a target. Potential options among our columns include streams, popularity, and the charting metrics. I'm going with total streams, since that's the entire point of these platforms for recording artists. They get paid on a per stream basis, so that's more valuable than anything else in my opinion."
      ],
      "metadata": {
        "id": "EaZLdmdAnUgo"
      }
    },
    {
      "cell_type": "code",
      "source": [
        "df_spotify = pd.read_csv(url)\n",
        "df_spotify.head()"
      ],
      "metadata": {
        "id": "UNYj5A3BjxCV",
        "colab": {
          "base_uri": "https://localhost:8080/",
          "height": 516
        },
        "outputId": "6152ecde-68fd-4b89-b053-ad3f11c09ba2"
      },
      "execution_count": 280,
      "outputs": [
        {
          "output_type": "execute_result",
          "data": {
            "text/plain": [
              "   Index  Highest Charting Position  Number of Times Charted  \\\n",
              "0      1                          1                        8   \n",
              "1      2                          2                        3   \n",
              "2      3                          1                       11   \n",
              "3      4                          3                        5   \n",
              "4      5                          5                        1   \n",
              "\n",
              "  Week of Highest Charting                          Song Name     Streams  \\\n",
              "0   2021-07-23--2021-07-30                            Beggin'  48,633,449   \n",
              "1   2021-07-23--2021-07-30          STAY (with Justin Bieber)  47,248,719   \n",
              "2   2021-06-25--2021-07-02                           good 4 u  40,162,559   \n",
              "3   2021-07-02--2021-07-09                         Bad Habits  37,799,456   \n",
              "4   2021-07-23--2021-07-30  INDUSTRY BABY (feat. Jack Harlow)  33,948,454   \n",
              "\n",
              "           Artist Artist Followers                 Song ID  \\\n",
              "0        Måneskin          3377762  3Wrjm47oTz2sjIgck11l5e   \n",
              "1   The Kid LAROI          2230022  5HCyWlXZPP0y6Gqq8TgA20   \n",
              "2  Olivia Rodrigo          6266514  4ZtFanR9U6ndgddUvNcjcG   \n",
              "3      Ed Sheeran         83293380  6PQ88X9TkUIAUIZJHW2upE   \n",
              "4       Lil Nas X          5473565  27NovPIUIRrOZoCHxABJwK   \n",
              "\n",
              "                                    Genre  ... Danceability Energy Loudness  \\\n",
              "0  ['indie rock italiano', 'italian pop']  ...        0.714    0.8   -4.808   \n",
              "1                  ['australian hip hop']  ...        0.591  0.764   -5.484   \n",
              "2                                 ['pop']  ...        0.563  0.664   -5.044   \n",
              "3                       ['pop', 'uk pop']  ...        0.808  0.897   -3.712   \n",
              "4           ['lgbtq+ hip hop', 'pop rap']  ...        0.736  0.704   -7.409   \n",
              "\n",
              "  Speechiness Acousticness Liveness    Tempo Duration (ms) Valence  Chord  \n",
              "0      0.0504        0.127    0.359  134.002        211560   0.589      B  \n",
              "1      0.0483       0.0383    0.103  169.928        141806   0.478  C#/Db  \n",
              "2       0.154        0.335   0.0849  166.928        178147   0.688      A  \n",
              "3      0.0348       0.0469    0.364  126.026        231041   0.591      B  \n",
              "4      0.0615       0.0203   0.0501  149.995        212000   0.894  D#/Eb  \n",
              "\n",
              "[5 rows x 23 columns]"
            ],
            "text/html": [
              "\n",
              "  <div id=\"df-ee2100c6-fa69-49ca-9948-e175825d4557\" class=\"colab-df-container\">\n",
              "    <div>\n",
              "<style scoped>\n",
              "    .dataframe tbody tr th:only-of-type {\n",
              "        vertical-align: middle;\n",
              "    }\n",
              "\n",
              "    .dataframe tbody tr th {\n",
              "        vertical-align: top;\n",
              "    }\n",
              "\n",
              "    .dataframe thead th {\n",
              "        text-align: right;\n",
              "    }\n",
              "</style>\n",
              "<table border=\"1\" class=\"dataframe\">\n",
              "  <thead>\n",
              "    <tr style=\"text-align: right;\">\n",
              "      <th></th>\n",
              "      <th>Index</th>\n",
              "      <th>Highest Charting Position</th>\n",
              "      <th>Number of Times Charted</th>\n",
              "      <th>Week of Highest Charting</th>\n",
              "      <th>Song Name</th>\n",
              "      <th>Streams</th>\n",
              "      <th>Artist</th>\n",
              "      <th>Artist Followers</th>\n",
              "      <th>Song ID</th>\n",
              "      <th>Genre</th>\n",
              "      <th>...</th>\n",
              "      <th>Danceability</th>\n",
              "      <th>Energy</th>\n",
              "      <th>Loudness</th>\n",
              "      <th>Speechiness</th>\n",
              "      <th>Acousticness</th>\n",
              "      <th>Liveness</th>\n",
              "      <th>Tempo</th>\n",
              "      <th>Duration (ms)</th>\n",
              "      <th>Valence</th>\n",
              "      <th>Chord</th>\n",
              "    </tr>\n",
              "  </thead>\n",
              "  <tbody>\n",
              "    <tr>\n",
              "      <th>0</th>\n",
              "      <td>1</td>\n",
              "      <td>1</td>\n",
              "      <td>8</td>\n",
              "      <td>2021-07-23--2021-07-30</td>\n",
              "      <td>Beggin'</td>\n",
              "      <td>48,633,449</td>\n",
              "      <td>Måneskin</td>\n",
              "      <td>3377762</td>\n",
              "      <td>3Wrjm47oTz2sjIgck11l5e</td>\n",
              "      <td>['indie rock italiano', 'italian pop']</td>\n",
              "      <td>...</td>\n",
              "      <td>0.714</td>\n",
              "      <td>0.8</td>\n",
              "      <td>-4.808</td>\n",
              "      <td>0.0504</td>\n",
              "      <td>0.127</td>\n",
              "      <td>0.359</td>\n",
              "      <td>134.002</td>\n",
              "      <td>211560</td>\n",
              "      <td>0.589</td>\n",
              "      <td>B</td>\n",
              "    </tr>\n",
              "    <tr>\n",
              "      <th>1</th>\n",
              "      <td>2</td>\n",
              "      <td>2</td>\n",
              "      <td>3</td>\n",
              "      <td>2021-07-23--2021-07-30</td>\n",
              "      <td>STAY (with Justin Bieber)</td>\n",
              "      <td>47,248,719</td>\n",
              "      <td>The Kid LAROI</td>\n",
              "      <td>2230022</td>\n",
              "      <td>5HCyWlXZPP0y6Gqq8TgA20</td>\n",
              "      <td>['australian hip hop']</td>\n",
              "      <td>...</td>\n",
              "      <td>0.591</td>\n",
              "      <td>0.764</td>\n",
              "      <td>-5.484</td>\n",
              "      <td>0.0483</td>\n",
              "      <td>0.0383</td>\n",
              "      <td>0.103</td>\n",
              "      <td>169.928</td>\n",
              "      <td>141806</td>\n",
              "      <td>0.478</td>\n",
              "      <td>C#/Db</td>\n",
              "    </tr>\n",
              "    <tr>\n",
              "      <th>2</th>\n",
              "      <td>3</td>\n",
              "      <td>1</td>\n",
              "      <td>11</td>\n",
              "      <td>2021-06-25--2021-07-02</td>\n",
              "      <td>good 4 u</td>\n",
              "      <td>40,162,559</td>\n",
              "      <td>Olivia Rodrigo</td>\n",
              "      <td>6266514</td>\n",
              "      <td>4ZtFanR9U6ndgddUvNcjcG</td>\n",
              "      <td>['pop']</td>\n",
              "      <td>...</td>\n",
              "      <td>0.563</td>\n",
              "      <td>0.664</td>\n",
              "      <td>-5.044</td>\n",
              "      <td>0.154</td>\n",
              "      <td>0.335</td>\n",
              "      <td>0.0849</td>\n",
              "      <td>166.928</td>\n",
              "      <td>178147</td>\n",
              "      <td>0.688</td>\n",
              "      <td>A</td>\n",
              "    </tr>\n",
              "    <tr>\n",
              "      <th>3</th>\n",
              "      <td>4</td>\n",
              "      <td>3</td>\n",
              "      <td>5</td>\n",
              "      <td>2021-07-02--2021-07-09</td>\n",
              "      <td>Bad Habits</td>\n",
              "      <td>37,799,456</td>\n",
              "      <td>Ed Sheeran</td>\n",
              "      <td>83293380</td>\n",
              "      <td>6PQ88X9TkUIAUIZJHW2upE</td>\n",
              "      <td>['pop', 'uk pop']</td>\n",
              "      <td>...</td>\n",
              "      <td>0.808</td>\n",
              "      <td>0.897</td>\n",
              "      <td>-3.712</td>\n",
              "      <td>0.0348</td>\n",
              "      <td>0.0469</td>\n",
              "      <td>0.364</td>\n",
              "      <td>126.026</td>\n",
              "      <td>231041</td>\n",
              "      <td>0.591</td>\n",
              "      <td>B</td>\n",
              "    </tr>\n",
              "    <tr>\n",
              "      <th>4</th>\n",
              "      <td>5</td>\n",
              "      <td>5</td>\n",
              "      <td>1</td>\n",
              "      <td>2021-07-23--2021-07-30</td>\n",
              "      <td>INDUSTRY BABY (feat. Jack Harlow)</td>\n",
              "      <td>33,948,454</td>\n",
              "      <td>Lil Nas X</td>\n",
              "      <td>5473565</td>\n",
              "      <td>27NovPIUIRrOZoCHxABJwK</td>\n",
              "      <td>['lgbtq+ hip hop', 'pop rap']</td>\n",
              "      <td>...</td>\n",
              "      <td>0.736</td>\n",
              "      <td>0.704</td>\n",
              "      <td>-7.409</td>\n",
              "      <td>0.0615</td>\n",
              "      <td>0.0203</td>\n",
              "      <td>0.0501</td>\n",
              "      <td>149.995</td>\n",
              "      <td>212000</td>\n",
              "      <td>0.894</td>\n",
              "      <td>D#/Eb</td>\n",
              "    </tr>\n",
              "  </tbody>\n",
              "</table>\n",
              "<p>5 rows × 23 columns</p>\n",
              "</div>\n",
              "    <div class=\"colab-df-buttons\">\n",
              "\n",
              "  <div class=\"colab-df-container\">\n",
              "    <button class=\"colab-df-convert\" onclick=\"convertToInteractive('df-ee2100c6-fa69-49ca-9948-e175825d4557')\"\n",
              "            title=\"Convert this dataframe to an interactive table.\"\n",
              "            style=\"display:none;\">\n",
              "\n",
              "  <svg xmlns=\"http://www.w3.org/2000/svg\" height=\"24px\" viewBox=\"0 -960 960 960\">\n",
              "    <path d=\"M120-120v-720h720v720H120Zm60-500h600v-160H180v160Zm220 220h160v-160H400v160Zm0 220h160v-160H400v160ZM180-400h160v-160H180v160Zm440 0h160v-160H620v160ZM180-180h160v-160H180v160Zm440 0h160v-160H620v160Z\"/>\n",
              "  </svg>\n",
              "    </button>\n",
              "\n",
              "  <style>\n",
              "    .colab-df-container {\n",
              "      display:flex;\n",
              "      gap: 12px;\n",
              "    }\n",
              "\n",
              "    .colab-df-convert {\n",
              "      background-color: #E8F0FE;\n",
              "      border: none;\n",
              "      border-radius: 50%;\n",
              "      cursor: pointer;\n",
              "      display: none;\n",
              "      fill: #1967D2;\n",
              "      height: 32px;\n",
              "      padding: 0 0 0 0;\n",
              "      width: 32px;\n",
              "    }\n",
              "\n",
              "    .colab-df-convert:hover {\n",
              "      background-color: #E2EBFA;\n",
              "      box-shadow: 0px 1px 2px rgba(60, 64, 67, 0.3), 0px 1px 3px 1px rgba(60, 64, 67, 0.15);\n",
              "      fill: #174EA6;\n",
              "    }\n",
              "\n",
              "    .colab-df-buttons div {\n",
              "      margin-bottom: 4px;\n",
              "    }\n",
              "\n",
              "    [theme=dark] .colab-df-convert {\n",
              "      background-color: #3B4455;\n",
              "      fill: #D2E3FC;\n",
              "    }\n",
              "\n",
              "    [theme=dark] .colab-df-convert:hover {\n",
              "      background-color: #434B5C;\n",
              "      box-shadow: 0px 1px 3px 1px rgba(0, 0, 0, 0.15);\n",
              "      filter: drop-shadow(0px 1px 2px rgba(0, 0, 0, 0.3));\n",
              "      fill: #FFFFFF;\n",
              "    }\n",
              "  </style>\n",
              "\n",
              "    <script>\n",
              "      const buttonEl =\n",
              "        document.querySelector('#df-ee2100c6-fa69-49ca-9948-e175825d4557 button.colab-df-convert');\n",
              "      buttonEl.style.display =\n",
              "        google.colab.kernel.accessAllowed ? 'block' : 'none';\n",
              "\n",
              "      async function convertToInteractive(key) {\n",
              "        const element = document.querySelector('#df-ee2100c6-fa69-49ca-9948-e175825d4557');\n",
              "        const dataTable =\n",
              "          await google.colab.kernel.invokeFunction('convertToInteractive',\n",
              "                                                    [key], {});\n",
              "        if (!dataTable) return;\n",
              "\n",
              "        const docLinkHtml = 'Like what you see? Visit the ' +\n",
              "          '<a target=\"_blank\" href=https://colab.research.google.com/notebooks/data_table.ipynb>data table notebook</a>'\n",
              "          + ' to learn more about interactive tables.';\n",
              "        element.innerHTML = '';\n",
              "        dataTable['output_type'] = 'display_data';\n",
              "        await google.colab.output.renderOutput(dataTable, element);\n",
              "        const docLink = document.createElement('div');\n",
              "        docLink.innerHTML = docLinkHtml;\n",
              "        element.appendChild(docLink);\n",
              "      }\n",
              "    </script>\n",
              "  </div>\n",
              "\n",
              "\n",
              "<div id=\"df-7982691e-9bdb-4be8-be06-e9f8f91b6389\">\n",
              "  <button class=\"colab-df-quickchart\" onclick=\"quickchart('df-7982691e-9bdb-4be8-be06-e9f8f91b6389')\"\n",
              "            title=\"Suggest charts\"\n",
              "            style=\"display:none;\">\n",
              "\n",
              "<svg xmlns=\"http://www.w3.org/2000/svg\" height=\"24px\"viewBox=\"0 0 24 24\"\n",
              "     width=\"24px\">\n",
              "    <g>\n",
              "        <path d=\"M19 3H5c-1.1 0-2 .9-2 2v14c0 1.1.9 2 2 2h14c1.1 0 2-.9 2-2V5c0-1.1-.9-2-2-2zM9 17H7v-7h2v7zm4 0h-2V7h2v10zm4 0h-2v-4h2v4z\"/>\n",
              "    </g>\n",
              "</svg>\n",
              "  </button>\n",
              "\n",
              "<style>\n",
              "  .colab-df-quickchart {\n",
              "      --bg-color: #E8F0FE;\n",
              "      --fill-color: #1967D2;\n",
              "      --hover-bg-color: #E2EBFA;\n",
              "      --hover-fill-color: #174EA6;\n",
              "      --disabled-fill-color: #AAA;\n",
              "      --disabled-bg-color: #DDD;\n",
              "  }\n",
              "\n",
              "  [theme=dark] .colab-df-quickchart {\n",
              "      --bg-color: #3B4455;\n",
              "      --fill-color: #D2E3FC;\n",
              "      --hover-bg-color: #434B5C;\n",
              "      --hover-fill-color: #FFFFFF;\n",
              "      --disabled-bg-color: #3B4455;\n",
              "      --disabled-fill-color: #666;\n",
              "  }\n",
              "\n",
              "  .colab-df-quickchart {\n",
              "    background-color: var(--bg-color);\n",
              "    border: none;\n",
              "    border-radius: 50%;\n",
              "    cursor: pointer;\n",
              "    display: none;\n",
              "    fill: var(--fill-color);\n",
              "    height: 32px;\n",
              "    padding: 0;\n",
              "    width: 32px;\n",
              "  }\n",
              "\n",
              "  .colab-df-quickchart:hover {\n",
              "    background-color: var(--hover-bg-color);\n",
              "    box-shadow: 0 1px 2px rgba(60, 64, 67, 0.3), 0 1px 3px 1px rgba(60, 64, 67, 0.15);\n",
              "    fill: var(--button-hover-fill-color);\n",
              "  }\n",
              "\n",
              "  .colab-df-quickchart-complete:disabled,\n",
              "  .colab-df-quickchart-complete:disabled:hover {\n",
              "    background-color: var(--disabled-bg-color);\n",
              "    fill: var(--disabled-fill-color);\n",
              "    box-shadow: none;\n",
              "  }\n",
              "\n",
              "  .colab-df-spinner {\n",
              "    border: 2px solid var(--fill-color);\n",
              "    border-color: transparent;\n",
              "    border-bottom-color: var(--fill-color);\n",
              "    animation:\n",
              "      spin 1s steps(1) infinite;\n",
              "  }\n",
              "\n",
              "  @keyframes spin {\n",
              "    0% {\n",
              "      border-color: transparent;\n",
              "      border-bottom-color: var(--fill-color);\n",
              "      border-left-color: var(--fill-color);\n",
              "    }\n",
              "    20% {\n",
              "      border-color: transparent;\n",
              "      border-left-color: var(--fill-color);\n",
              "      border-top-color: var(--fill-color);\n",
              "    }\n",
              "    30% {\n",
              "      border-color: transparent;\n",
              "      border-left-color: var(--fill-color);\n",
              "      border-top-color: var(--fill-color);\n",
              "      border-right-color: var(--fill-color);\n",
              "    }\n",
              "    40% {\n",
              "      border-color: transparent;\n",
              "      border-right-color: var(--fill-color);\n",
              "      border-top-color: var(--fill-color);\n",
              "    }\n",
              "    60% {\n",
              "      border-color: transparent;\n",
              "      border-right-color: var(--fill-color);\n",
              "    }\n",
              "    80% {\n",
              "      border-color: transparent;\n",
              "      border-right-color: var(--fill-color);\n",
              "      border-bottom-color: var(--fill-color);\n",
              "    }\n",
              "    90% {\n",
              "      border-color: transparent;\n",
              "      border-bottom-color: var(--fill-color);\n",
              "    }\n",
              "  }\n",
              "</style>\n",
              "\n",
              "  <script>\n",
              "    async function quickchart(key) {\n",
              "      const quickchartButtonEl =\n",
              "        document.querySelector('#' + key + ' button');\n",
              "      quickchartButtonEl.disabled = true;  // To prevent multiple clicks.\n",
              "      quickchartButtonEl.classList.add('colab-df-spinner');\n",
              "      try {\n",
              "        const charts = await google.colab.kernel.invokeFunction(\n",
              "            'suggestCharts', [key], {});\n",
              "      } catch (error) {\n",
              "        console.error('Error during call to suggestCharts:', error);\n",
              "      }\n",
              "      quickchartButtonEl.classList.remove('colab-df-spinner');\n",
              "      quickchartButtonEl.classList.add('colab-df-quickchart-complete');\n",
              "    }\n",
              "    (() => {\n",
              "      let quickchartButtonEl =\n",
              "        document.querySelector('#df-7982691e-9bdb-4be8-be06-e9f8f91b6389 button');\n",
              "      quickchartButtonEl.style.display =\n",
              "        google.colab.kernel.accessAllowed ? 'block' : 'none';\n",
              "    })();\n",
              "  </script>\n",
              "</div>\n",
              "\n",
              "    </div>\n",
              "  </div>\n"
            ],
            "application/vnd.google.colaboratory.intrinsic+json": {
              "type": "dataframe",
              "variable_name": "df_spotify"
            }
          },
          "metadata": {},
          "execution_count": 280
        }
      ]
    },
    {
      "cell_type": "markdown",
      "source": [
        "We see below that there are 1,556 songs in our dataset. This is something to keep in mind as I'll be winnowing this number down throughout this process. In other words, I don't want to end up only using a couple hundred songs for my models."
      ],
      "metadata": {
        "id": "Sn3sRSGLo2e2"
      }
    },
    {
      "cell_type": "code",
      "source": [
        "df_spotify.shape"
      ],
      "metadata": {
        "colab": {
          "base_uri": "https://localhost:8080/"
        },
        "id": "SUN7CApaV1Ex",
        "outputId": "7884af72-a419-4e35-b7ec-e99e5d6262e5"
      },
      "execution_count": 281,
      "outputs": [
        {
          "output_type": "execute_result",
          "data": {
            "text/plain": [
              "(1556, 23)"
            ]
          },
          "metadata": {},
          "execution_count": 281
        }
      ]
    },
    {
      "cell_type": "markdown",
      "source": [
        "Next up I want to see the datatypes of our columns. Many of the numbers are in fact objects, which will need to be addressed later."
      ],
      "metadata": {
        "id": "7-wLOvEgpdwH"
      }
    },
    {
      "cell_type": "code",
      "source": [
        "df_spotify.info()"
      ],
      "metadata": {
        "colab": {
          "base_uri": "https://localhost:8080/"
        },
        "id": "edHNZpvuV6kh",
        "outputId": "cb47f028-e5b5-4c7f-ee88-0a845811341d"
      },
      "execution_count": 282,
      "outputs": [
        {
          "output_type": "stream",
          "name": "stdout",
          "text": [
            "<class 'pandas.core.frame.DataFrame'>\n",
            "RangeIndex: 1556 entries, 0 to 1555\n",
            "Data columns (total 23 columns):\n",
            " #   Column                     Non-Null Count  Dtype \n",
            "---  ------                     --------------  ----- \n",
            " 0   Index                      1556 non-null   int64 \n",
            " 1   Highest Charting Position  1556 non-null   int64 \n",
            " 2   Number of Times Charted    1556 non-null   int64 \n",
            " 3   Week of Highest Charting   1556 non-null   object\n",
            " 4   Song Name                  1556 non-null   object\n",
            " 5   Streams                    1556 non-null   object\n",
            " 6   Artist                     1556 non-null   object\n",
            " 7   Artist Followers           1556 non-null   object\n",
            " 8   Song ID                    1556 non-null   object\n",
            " 9   Genre                      1556 non-null   object\n",
            " 10  Release Date               1556 non-null   object\n",
            " 11  Weeks Charted              1556 non-null   object\n",
            " 12  Popularity                 1556 non-null   object\n",
            " 13  Danceability               1556 non-null   object\n",
            " 14  Energy                     1556 non-null   object\n",
            " 15  Loudness                   1556 non-null   object\n",
            " 16  Speechiness                1556 non-null   object\n",
            " 17  Acousticness               1556 non-null   object\n",
            " 18  Liveness                   1556 non-null   object\n",
            " 19  Tempo                      1556 non-null   object\n",
            " 20  Duration (ms)              1556 non-null   object\n",
            " 21  Valence                    1556 non-null   object\n",
            " 22  Chord                      1556 non-null   object\n",
            "dtypes: int64(3), object(20)\n",
            "memory usage: 279.7+ KB\n"
          ]
        }
      ]
    },
    {
      "cell_type": "markdown",
      "source": [
        "Now I'd like to see what unique identifiers we have. Index and Song ID seem like obvious candidates."
      ],
      "metadata": {
        "id": "gLN5y4Gop8R2"
      }
    },
    {
      "cell_type": "code",
      "source": [
        "df_spotify['Index'].value_counts().sort_values(ascending=False)"
      ],
      "metadata": {
        "colab": {
          "base_uri": "https://localhost:8080/"
        },
        "id": "PNTVNZn6WeSW",
        "outputId": "8eb1ee53-f16a-4c1a-8e8e-95e912cd74af"
      },
      "execution_count": 283,
      "outputs": [
        {
          "output_type": "execute_result",
          "data": {
            "text/plain": [
              "1       1\n",
              "49      1\n",
              "3       1\n",
              "4       1\n",
              "5       1\n",
              "       ..\n",
              "1555    1\n",
              "1546    1\n",
              "1534    1\n",
              "1533    1\n",
              "1556    1\n",
              "Name: Index, Length: 1556, dtype: int64"
            ]
          },
          "metadata": {},
          "execution_count": 283
        }
      ]
    },
    {
      "cell_type": "code",
      "source": [
        "df_spotify['Song ID'].value_counts().sort_values(ascending=False)"
      ],
      "metadata": {
        "colab": {
          "base_uri": "https://localhost:8080/"
        },
        "id": "zAIgtCN3W-Y4",
        "outputId": "6eb5d38a-8cab-425c-cd0f-7737c5091eea"
      },
      "execution_count": 284,
      "outputs": [
        {
          "output_type": "execute_result",
          "data": {
            "text/plain": [
              "                          11\n",
              "5uEYRdEIh9Bo4fpjDd4Na9     3\n",
              "3yZCjDTxzZxx1kll1sRjGc     2\n",
              "07Oz5StQ7GRoygNLaXs2pd     2\n",
              "2AlYncTpVHKwHb55F9lF6O     2\n",
              "                          ..\n",
              "1VJwtWR6z7SpZRwipI12be     1\n",
              "62zKJrpbLxz6InR3tGyr7o     1\n",
              "2bPtwnrpFNEe8N7Q85kLHw     1\n",
              "3wwo0bJvDSorOpNfzEkfXx     1\n",
              "3i9UVldZOE0aD0JnyfAZZ0     1\n",
              "Name: Song ID, Length: 1517, dtype: int64"
            ]
          },
          "metadata": {},
          "execution_count": 284
        }
      ]
    },
    {
      "cell_type": "markdown",
      "source": [
        "##Data Cleaning"
      ],
      "metadata": {
        "id": "TC9O44eKuBa7"
      }
    },
    {
      "cell_type": "markdown",
      "source": [
        "Unfortunately there are a few duplicate song IDs as we can see above. That top line with a value of 11 are songs that don't have any ID associated with them. Since we're only dealing with less than 50 duplicates, I'll just drop them. If I wanted to try and incorporate them into the dataset, I'd need to see if the streams should be added together and if the normalized features should be averaged."
      ],
      "metadata": {
        "id": "rDGAaYIHqfHs"
      }
    },
    {
      "cell_type": "code",
      "source": [
        "unique_songs_df = df_spotify.drop_duplicates(subset=['Song ID'], keep=False)"
      ],
      "metadata": {
        "id": "tTcGiw94jWrK"
      },
      "execution_count": 285,
      "outputs": []
    },
    {
      "cell_type": "markdown",
      "source": [
        "I'm going to drop some columns below. Some are unique identifiers, others qualitative information (genre, artist, etc) and others still features that tie into popularity like charting information."
      ],
      "metadata": {
        "id": "jQlv45WysuR7"
      }
    },
    {
      "cell_type": "code",
      "source": [
        "df_spotify_clean = unique_songs_df.drop(columns=['Song Name', 'Song ID', 'Genre', 'Week of Highest Charting', 'Weeks Charted', 'Index', 'Popularity', 'Number of Times Charted', 'Highest Charting Position'])\n",
        "df_spotify_clean_no_artist = df_spotify_clean.drop(columns = ['Artist'])"
      ],
      "metadata": {
        "id": "K6ybUYG5mpxw"
      },
      "execution_count": 286,
      "outputs": []
    },
    {
      "cell_type": "markdown",
      "source": [
        "I now need to clean my Streams column. The values are formatted with commas, so I should remove those."
      ],
      "metadata": {
        "id": "Yl4mPAOHuVZl"
      }
    },
    {
      "cell_type": "code",
      "source": [
        "df_spotify_clean_no_artist['Streams'] = df_spotify_clean_no_artist['Streams'].str.replace(',', '').astype(float)"
      ],
      "metadata": {
        "id": "oN8D8iA3r-rZ"
      },
      "execution_count": 287,
      "outputs": []
    },
    {
      "cell_type": "markdown",
      "source": [
        "I'm doing a couple of things in the codeblock below. First, I'm reformatting the Release Date column to datetime. Then I'm applying a couple of filters, one to cut my timeframe down to the five years prior to our dataset and another to eliminate any songs with more than 40 million streams. Finally I'm pulling out the day of the year from the release date. I set that date range, because some of our songs were released decades ago, so I'd rather look at what makes a song popular now as opposed to classic hits. Day of year is useful in determining if when a song is released affects its popularity."
      ],
      "metadata": {
        "id": "g3Mxr2Jbv387"
      }
    },
    {
      "cell_type": "code",
      "source": [
        "df_spotify_clean_no_artist['Release Date'] = pd.to_datetime(df_spotify_clean_no_artist['Release Date'])\n",
        "\n",
        "#Here I removed one outlier with more than 40 million streams and also set date parameters to limit the set to songs released in a recent five year period.\n",
        "df_spotify_filtered = df_spotify_clean_no_artist[(df_spotify_clean_no_artist['Release Date'] <= '2021-01-01') & (df_spotify_clean_no_artist['Release Date'] >= '2016-01-01')].copy()\n",
        "df_spotify_filtered = df_spotify_filtered[(df_spotify_filtered['Streams'] <= 40_000_000)].copy()\n",
        "#I'm more concerned with the day of year than anything else for predictions, so I'm pulling that value out.\n",
        "df_spotify_filtered['Day of Year'] = df_spotify_filtered['Release Date'].dt.dayofyear.astype(float)"
      ],
      "metadata": {
        "id": "zXAtzuvxxbTY"
      },
      "execution_count": 288,
      "outputs": []
    },
    {
      "cell_type": "code",
      "source": [
        "df_spotify_filtered.shape"
      ],
      "metadata": {
        "colab": {
          "base_uri": "https://localhost:8080/"
        },
        "id": "cXTtnsyTENGG",
        "outputId": "870e9ac3-ec1f-4291-c8d7-f719dec2508a"
      },
      "execution_count": 289,
      "outputs": [
        {
          "output_type": "execute_result",
          "data": {
            "text/plain": [
              "(1000, 14)"
            ]
          },
          "metadata": {},
          "execution_count": 289
        }
      ]
    },
    {
      "cell_type": "markdown",
      "source": [
        "That leaves us with 1,000 songs. Below I one-hot encoded the Chord column, but it didn't improve the model. I'm leaving it here in case I wanted to pull it back in after doing some more tuning."
      ],
      "metadata": {
        "id": "EhUufrQWxz2L"
      }
    },
    {
      "cell_type": "code",
      "source": [
        "#chord_dummies = pd.get_dummies(df_spotify_filtered['Chord'], prefix='Chord')\n",
        "\n",
        "#df_spotify_filtered = pd.concat([df_spotify_filtered, chord_dummies], axis=1)"
      ],
      "metadata": {
        "id": "F8jXFHuM5Pti"
      },
      "execution_count": 290,
      "outputs": []
    },
    {
      "cell_type": "markdown",
      "source": [
        "##Processing"
      ],
      "metadata": {
        "id": "I3bbeZexymNx"
      }
    },
    {
      "cell_type": "markdown",
      "source": [
        "I've got my models and cross-validated RMSEs below. I attempted to do more feature selection based on the outputs, but the importance on the lower end changes during each run. One thing that is consistent is that Artist Followers and Day of the Year are among the most important in each model."
      ],
      "metadata": {
        "id": "GauW5uWyyt4w"
      }
    },
    {
      "cell_type": "code",
      "source": [
        "X = df_spotify_filtered.drop(columns=['Streams', 'Release Date', 'Chord'])\n",
        "y = df_spotify_filtered['Streams']\n",
        "\n",
        "results = {}\n",
        "\n",
        "numLoops = 100\n",
        "\n",
        "for i in range(1,6):\n",
        "  mean_error = np.zeros(numLoops)\n",
        "  for idx in range(0,numLoops):\n",
        "    X_train, X_test, y_train, y_test = train_test_split(X,y,test_size=0.2, shuffle = True, )\n",
        "    model = DecisionTreeRegressor(max_depth = i)\n",
        "    model.fit(X_train,y_train)\n",
        "    y_pred = model.predict(X_test)\n",
        "    mean_error[idx] = mean_squared_error(y_test, y_pred)\n",
        "    results[f\"Depth = {i}\"] = mean_error\n",
        "\n",
        "print(f'Decision Tree RMSE: {np.sqrt(mean_error).mean()}')"
      ],
      "metadata": {
        "colab": {
          "base_uri": "https://localhost:8080/"
        },
        "id": "N-NrAo28adOJ",
        "outputId": "0a2dcc2c-eadd-4f9c-fce3-52156c21a7a8"
      },
      "execution_count": 306,
      "outputs": [
        {
          "output_type": "stream",
          "name": "stdout",
          "text": [
            "Decision Tree RMSE: 1727130.274295778\n"
          ]
        }
      ]
    },
    {
      "cell_type": "code",
      "source": [
        "for k, v in results.items():\n",
        "  print(f'{k} Decision Tree RMSE: {np.sqrt(v).mean()}')"
      ],
      "metadata": {
        "colab": {
          "base_uri": "https://localhost:8080/"
        },
        "id": "5MJbwnuPdBXa",
        "outputId": "145bbcad-cb99-4a81-e51a-937d4e6e8b29"
      },
      "execution_count": 307,
      "outputs": [
        {
          "output_type": "stream",
          "name": "stdout",
          "text": [
            "Depth = 1 Decision Tree RMSE: 1633817.488895773\n",
            "Depth = 2 Decision Tree RMSE: 1563316.517204467\n",
            "Depth = 3 Decision Tree RMSE: 1539471.3610469021\n",
            "Depth = 4 Decision Tree RMSE: 1589894.0731351655\n",
            "Depth = 5 Decision Tree RMSE: 1727130.274295778\n"
          ]
        }
      ]
    },
    {
      "cell_type": "code",
      "source": [
        "importances = model.feature_importances_\n",
        "\n",
        "feature_importances_dt = pd.DataFrame({'Feature': X_train.columns, 'Importance': importances})\n",
        "feature_importances_dt = feature_importances_dt.sort_values(by='Importance', ascending=False)\n",
        "\n",
        "print(feature_importances_dt)"
      ],
      "metadata": {
        "colab": {
          "base_uri": "https://localhost:8080/"
        },
        "id": "OxFJdD5flZbB",
        "outputId": "b3abacdc-5a62-4d5a-cd29-1f988cb104b0"
      },
      "execution_count": 308,
      "outputs": [
        {
          "output_type": "stream",
          "name": "stdout",
          "text": [
            "             Feature  Importance\n",
            "0   Artist Followers    0.274900\n",
            "10       Day of Year    0.211724\n",
            "8      Duration (ms)    0.163093\n",
            "4        Speechiness    0.086238\n",
            "1       Danceability    0.085227\n",
            "3           Loudness    0.054647\n",
            "5       Acousticness    0.045547\n",
            "6           Liveness    0.029311\n",
            "9            Valence    0.022620\n",
            "7              Tempo    0.017175\n",
            "2             Energy    0.009518\n"
          ]
        }
      ]
    },
    {
      "cell_type": "code",
      "source": [
        "X = df_spotify_filtered.drop(columns=['Streams', 'Release Date', 'Chord'])\n",
        "\n",
        "results = {}\n",
        "\n",
        "numLoops = 100\n",
        "\n",
        "for i in range(1,6):\n",
        "  mean_error = np.zeros(numLoops)\n",
        "  for idx in range(0,numLoops):\n",
        "    X_train, X_test, y_train, y_test = train_test_split(X,y,test_size=0.2, shuffle = True, )\n",
        "    random_forest_model = RandomForestRegressor(max_depth = i)\n",
        "    model.fit(X_train,y_train)\n",
        "    y_pred = model.predict(X_test)\n",
        "    mean_error[idx] = mean_squared_error(y_test, y_pred)\n",
        "    results[f\"Depth = {i}\"] = mean_error\n",
        "\n",
        "print(f'Random Forest RMSE: {np.sqrt(mean_error).mean()}')"
      ],
      "metadata": {
        "colab": {
          "base_uri": "https://localhost:8080/"
        },
        "id": "eNjYXEXXkNhk",
        "outputId": "923837cd-4b58-4311-cb66-e770d7f6c6d7"
      },
      "execution_count": 294,
      "outputs": [
        {
          "output_type": "stream",
          "name": "stdout",
          "text": [
            "Random Forest RMSE: 1704911.701498999\n"
          ]
        }
      ]
    },
    {
      "cell_type": "code",
      "source": [
        "for k, v in results.items():\n",
        "  print(f'{k} Random Forest RMSE: {np.sqrt(v).mean()}')"
      ],
      "metadata": {
        "colab": {
          "base_uri": "https://localhost:8080/"
        },
        "id": "Llx7cOEGkaPK",
        "outputId": "c5e5f201-e363-4e4c-9e12-698ecbdf3f6c"
      },
      "execution_count": 295,
      "outputs": [
        {
          "output_type": "stream",
          "name": "stdout",
          "text": [
            "Depth = 1 Random Forest RMSE: 1711399.2820080658\n",
            "Depth = 2 Random Forest RMSE: 1697565.9399734854\n",
            "Depth = 3 Random Forest RMSE: 1719205.682051769\n",
            "Depth = 4 Random Forest RMSE: 1687585.08531213\n",
            "Depth = 5 Random Forest RMSE: 1704911.701498999\n"
          ]
        }
      ]
    },
    {
      "cell_type": "code",
      "source": [
        "importances = model.feature_importances_\n",
        "\n",
        "# Create a DataFrame to display feature importances\n",
        "feature_importances_rf = pd.DataFrame({'Feature': X_train.columns, 'Importance': importances})\n",
        "feature_importances_rf = feature_importances_rf.sort_values(by='Importance', ascending=False)\n",
        "\n",
        "# Display feature importances\n",
        "print(feature_importances_rf)"
      ],
      "metadata": {
        "colab": {
          "base_uri": "https://localhost:8080/"
        },
        "id": "-QUQaATMlbjv",
        "outputId": "7ee44ad1-8bae-43a2-e4a8-749069ed963a"
      },
      "execution_count": 296,
      "outputs": [
        {
          "output_type": "stream",
          "name": "stdout",
          "text": [
            "             Feature  Importance\n",
            "10       Day of Year    0.324907\n",
            "0   Artist Followers    0.253090\n",
            "8      Duration (ms)    0.140225\n",
            "5       Acousticness    0.104694\n",
            "1       Danceability    0.069326\n",
            "7              Tempo    0.067981\n",
            "2             Energy    0.013936\n",
            "9            Valence    0.013310\n",
            "6           Liveness    0.012532\n",
            "3           Loudness    0.000000\n",
            "4        Speechiness    0.000000\n"
          ]
        }
      ]
    },
    {
      "cell_type": "code",
      "source": [
        "# Reset results\n",
        "results = {}\n",
        "\n",
        "# Define numLoops\n",
        "numLoops = 100\n",
        "\n",
        "# Define features and target\n",
        "X = df_spotify_filtered.drop(columns=['Streams', 'Release Date', 'Chord'])\n",
        "y = df_spotify_filtered['Streams']\n",
        "\n",
        "# Convert all relevant columns to numeric\n",
        "for column in X.columns:\n",
        "    X[column] = pd.to_numeric(X[column], errors='coerce')\n",
        "\n",
        "# Perform grid search\n",
        "for i in range(1, 6):\n",
        "    mean_error = np.zeros(numLoops)\n",
        "    for idx in range(0, numLoops):\n",
        "        X_train, X_test, y_train, y_test = train_test_split(X, y, test_size=0.2, shuffle=True)\n",
        "        xgb_model = XGBRegressor(max_depth=i)\n",
        "        xgb_model.fit(X_train, y_train)\n",
        "        y_pred_xgb = xgb_model.predict(X_test)\n",
        "        mean_error[idx] = mean_squared_error(y_test, y_pred_xgb)\n",
        "    results[f\"Depth = {i}\"] = mean_error\n",
        "\n",
        "# Print results\n",
        "for depth, error in results.items():\n",
        "    print(f'XGBRegressor RMSE (Depth={depth}): {np.sqrt(error).mean()}')"
      ],
      "metadata": {
        "colab": {
          "base_uri": "https://localhost:8080/"
        },
        "id": "ZhzJioMptTt4",
        "outputId": "d14e000b-7388-43cc-da5f-1d9b18acb935"
      },
      "execution_count": 297,
      "outputs": [
        {
          "output_type": "stream",
          "name": "stdout",
          "text": [
            "XGBRegressor RMSE (Depth=Depth = 1): 1554861.7753104777\n",
            "XGBRegressor RMSE (Depth=Depth = 2): 1587325.243404862\n",
            "XGBRegressor RMSE (Depth=Depth = 3): 1631517.1035213717\n",
            "XGBRegressor RMSE (Depth=Depth = 4): 1644853.627417594\n",
            "XGBRegressor RMSE (Depth=Depth = 5): 1667805.9332793406\n"
          ]
        }
      ]
    },
    {
      "cell_type": "code",
      "source": [
        "importances = xgb_model.feature_importances_\n",
        "\n",
        "# Create a DataFrame to display feature importances\n",
        "feature_importances_xgb = pd.DataFrame({'Feature': X_train.columns, 'Importance': importances})\n",
        "feature_importances_xgb = feature_importances_xgb.sort_values(by='Importance', ascending=False)\n",
        "\n",
        "# Display feature importances\n",
        "print(feature_importances_xgb)"
      ],
      "metadata": {
        "colab": {
          "base_uri": "https://localhost:8080/"
        },
        "id": "rKGCfegRqxGj",
        "outputId": "3f76a883-0678-480c-bff7-a4684fbd3036"
      },
      "execution_count": 298,
      "outputs": [
        {
          "output_type": "stream",
          "name": "stdout",
          "text": [
            "             Feature  Importance\n",
            "10       Day of Year    0.209448\n",
            "0   Artist Followers    0.124260\n",
            "8      Duration (ms)    0.102959\n",
            "6           Liveness    0.099238\n",
            "5       Acousticness    0.085010\n",
            "7              Tempo    0.078679\n",
            "4        Speechiness    0.072270\n",
            "3           Loudness    0.065291\n",
            "9            Valence    0.056116\n",
            "1       Danceability    0.053785\n",
            "2             Energy    0.052944\n"
          ]
        }
      ]
    },
    {
      "cell_type": "markdown",
      "source": [
        "##Data Visualization/Communication of Results"
      ],
      "metadata": {
        "id": "-XK10f6kzRb6"
      }
    },
    {
      "cell_type": "markdown",
      "source": [
        "In both the decision tree and random forest models, the most important features were Artist Followers, Release Day, and Duration. I've got those plotted against our target in the next three visualizations."
      ],
      "metadata": {
        "id": "EQYLitiwzvTC"
      }
    },
    {
      "cell_type": "code",
      "source": [
        "plt.figure(figsize=(8, 6))\n",
        "sns.scatterplot(data=df_spotify_filtered, x='Artist Followers', y='Streams')\n",
        "plt.xlabel('Artist Followers')\n",
        "plt.ylabel('Streams')\n",
        "plt.title(\"Scatter Plot of Streams vs Artist Followers\")\n",
        "\n",
        "\n",
        "plt.show()"
      ],
      "metadata": {
        "id": "R1iWrjdseq_l",
        "colab": {
          "base_uri": "https://localhost:8080/",
          "height": 564
        },
        "outputId": "9b5e7032-c14b-44b9-e026-4342a2870261"
      },
      "execution_count": 299,
      "outputs": [
        {
          "output_type": "display_data",
          "data": {
            "text/plain": [
              "<Figure size 800x600 with 1 Axes>"
            ],
            "image/png": "[encoded data removed]"
          },
          "metadata": {}
        }
      ]
    },
    {
      "cell_type": "code",
      "source": [
        "plt.figure(figsize=(8, 6))\n",
        "sns.scatterplot(data=df_spotify_filtered, x='Day of Year', y='Streams')\n",
        "plt.xlabel('Release Day')\n",
        "plt.ylabel('Streams')\n",
        "plt.title(\"Scatter Plot of Streams vs Release Day\")\n",
        "\n",
        "\n",
        "plt.show()"
      ],
      "metadata": {
        "id": "JcD0k4INikL1",
        "colab": {
          "base_uri": "https://localhost:8080/",
          "height": 564
        },
        "outputId": "8aa5c347-0122-4dbf-b2ed-cfd933d48c3f"
      },
      "execution_count": 300,
      "outputs": [
        {
          "output_type": "display_data",
          "data": {
            "text/plain": [
              "<Figure size 800x600 with 1 Axes>"
            ],
            "image/png": "[encoded data removed]"
          },
          "metadata": {}
        }
      ]
    },
    {
      "cell_type": "code",
      "source": [
        "df_spotify_filtered['Duration (ms)'] = pd.to_numeric(df_spotify_filtered['Duration (ms)'])\n",
        "\n",
        "# Define the tick positions\n",
        "tick_range = np.linspace(25000, 460000, num=6)\n",
        "\n",
        "# Your scatterplot code\n",
        "plt.figure(figsize=(8, 6))\n",
        "sns.scatterplot(data=df_spotify_filtered, x='Duration (ms)', y='Streams')\n",
        "plt.xlabel('Duration (ms)')\n",
        "plt.ylabel('Streams')\n",
        "plt.title(\"Scatter Plot of Streams vs Duration(ms)\")\n",
        "\n",
        "plt.show()"
      ],
      "metadata": {
        "id": "RjIi1Z_UwH5e",
        "colab": {
          "base_uri": "https://localhost:8080/",
          "height": 564
        },
        "outputId": "45029cca-9bce-4145-ef98-7ed1009ebe1d"
      },
      "execution_count": 301,
      "outputs": [
        {
          "output_type": "display_data",
          "data": {
            "text/plain": [
              "<Figure size 800x600 with 1 Axes>"
            ],
            "image/png": "[encoded data removed]"
          },
          "metadata": {}
        }
      ]
    },
    {
      "cell_type": "markdown",
      "source": [
        "The next three charts are bar graphs of feature importance for each model. As we can see, XGBoost incorporates the features more evenly than the other two."
      ],
      "metadata": {
        "id": "Un7psENm4fQV"
      }
    },
    {
      "cell_type": "code",
      "source": [
        "# Create a sorted DataFrame by importance values\n",
        "feature_importances_rf = feature_importances_rf.sort_values(by='Importance', ascending=False)\n",
        "\n",
        "feature_importances_rf = feature_importances_rf[::-1]\n",
        "\n",
        "# Plot the feature importance values using Plotly Express\n",
        "fig = px.bar(feature_importances_rf, x='Importance', y='Feature', orientation='h',\n",
        "             title='Feature Importance Plot for Random Forest Model',\n",
        "             labels={'Importance': 'Importance', 'Feature': 'Feature'})\n",
        "fig.show()"
      ],
      "metadata": {
        "id": "c9wcjuvF5z_F",
        "colab": {
          "base_uri": "https://localhost:8080/",
          "height": 542
        },
        "outputId": "4f9dc206-c059-4585-db5d-a07dad664cc4"
      },
      "execution_count": 302,
      "outputs": [
        {
          "output_type": "display_data",
          "data": {
            "text/html": [
              "<html>\n",
              "<head><meta charset=\"utf-8\" /></head>\n",
              "<body>\n",
              "    <div>            <script src=\"https://cdnjs.cloudflare.com/ajax/libs/mathjax/2.7.5/MathJax.js?config=TeX-AMS-MML_SVG\"></script><script type=\"text/javascript\">if (window.MathJax && window.MathJax.Hub && window.MathJax.Hub.Config) {window.MathJax.Hub.Config({SVG: {font: \"STIX-Web\"}});}</script>                <script type=\"text/javascript\">window.PlotlyConfig = {MathJaxConfig: 'local'};</script>\n",
              "        <script charset=\"utf-8\" src=\"https://cdn.plot.ly/plotly-2.24.1.min.js\"></script>                <div id=\"fbe3487b-7f93-40bc-ba35-2e2719557227\" class=\"plotly-graph-div\" style=\"height:525px; width:100%;\"></div>            <script type=\"text/javascript\">                                    window.PLOTLYENV=window.PLOTLYENV || {};                                    if (document.getElementById(\"fbe3487b-7f93-40bc-ba35-2e2719557227\")) {                    Plotly.newPlot(                        \"fbe3487b-7f93-40bc-ba35-2e2719557227\",                        [{\"alignmentgroup\":\"True\",\"hovertemplate\":\"Importance=%{x}\\u003cbr\\u003eFeature=%{y}\\u003cextra\\u003e\\u003c\\u002fextra\\u003e\",\"legendgroup\":\"\",\"marker\":{\"color\":\"#636efa\",\"pattern\":{\"shape\":\"\"}},\"name\":\"\",\"offsetgroup\":\"\",\"orientation\":\"h\",\"showlegend\":false,\"textposition\":\"auto\",\"x\":[0.0,0.0,0.01253151532131215,0.013310118995029985,0.01393598461611712,0.06798054151526922,0.06932577967749456,0.10469423645864384,0.14022477084274448,0.25309018274877554,0.3249068698246131],\"xaxis\":\"x\",\"y\":[\"Speechiness\",\"Loudness\",\"Liveness\",\"Valence\",\"Energy\",\"Tempo\",\"Danceability\",\"Acousticness\",\"Duration (ms)\",\"Artist Followers\",\"Day of Year\"],\"yaxis\":\"y\",\"type\":\"bar\"}],                        {\"template\":{\"data\":{\"histogram2dcontour\":[{\"type\":\"histogram2dcontour\",\"colorbar\":{\"outlinewidth\":0,\"ticks\":\"\"},\"colorscale\":[[0.0,\"#0d0887\"],[0.1111111111111111,\"#46039f\"],[0.2222222222222222,\"#7201a8\"],[0.3333333333333333,\"#9c179e\"],[0.4444444444444444,\"#bd3786\"],[0.5555555555555556,\"#d8576b\"],[0.6666666666666666,\"#ed7953\"],[0.7777777777777778,\"#fb9f3a\"],[0.8888888888888888,\"#fdca26\"],[1.0,\"#f0f921\"]]}],\"choropleth\":[{\"type\":\"choropleth\",\"colorbar\":{\"outlinewidth\":0,\"ticks\":\"\"}}],\"histogram2d\":[{\"type\":\"histogram2d\",\"colorbar\":{\"outlinewidth\":0,\"ticks\":\"\"},\"colorscale\":[[0.0,\"#0d0887\"],[0.1111111111111111,\"#46039f\"],[0.2222222222222222,\"#7201a8\"],[0.3333333333333333,\"#9c179e\"],[0.4444444444444444,\"#bd3786\"],[0.5555555555555556,\"#d8576b\"],[0.6666666666666666,\"#ed7953\"],[0.7777777777777778,\"#fb9f3a\"],[0.8888888888888888,\"#fdca26\"],[1.0,\"#f0f921\"]]}],\"heatmap\":[{\"type\":\"heatmap\",\"colorbar\":{\"outlinewidth\":0,\"ticks\":\"\"},\"colorscale\":[[0.0,\"#0d0887\"],[0.1111111111111111,\"#46039f\"],[0.2222222222222222,\"#7201a8\"],[0.3333333333333333,\"#9c179e\"],[0.4444444444444444,\"#bd3786\"],[0.5555555555555556,\"#d8576b\"],[0.6666666666666666,\"#ed7953\"],[0.7777777777777778,\"#fb9f3a\"],[0.8888888888888888,\"#fdca26\"],[1.0,\"#f0f921\"]]}],\"heatmapgl\":[{\"type\":\"heatmapgl\",\"colorbar\":{\"outlinewidth\":0,\"ticks\":\"\"},\"colorscale\":[[0.0,\"#0d0887\"],[0.1111111111111111,\"#46039f\"],[0.2222222222222222,\"#7201a8\"],[0.3333333333333333,\"#9c179e\"],[0.4444444444444444,\"#bd3786\"],[0.5555555555555556,\"#d8576b\"],[0.6666666666666666,\"#ed7953\"],[0.7777777777777778,\"#fb9f3a\"],[0.8888888888888888,\"#fdca26\"],[1.0,\"#f0f921\"]]}],\"contourcarpet\":[{\"type\":\"contourcarpet\",\"colorbar\":{\"outlinewidth\":0,\"ticks\":\"\"}}],\"contour\":[{\"type\":\"contour\",\"colorbar\":{\"outlinewidth\":0,\"ticks\":\"\"},\"colorscale\":[[0.0,\"#0d0887\"],[0.1111111111111111,\"#46039f\"],[0.2222222222222222,\"#7201a8\"],[0.3333333333333333,\"#9c179e\"],[0.4444444444444444,\"#bd3786\"],[0.5555555555555556,\"#d8576b\"],[0.6666666666666666,\"#ed7953\"],[0.7777777777777778,\"#fb9f3a\"],[0.8888888888888888,\"#fdca26\"],[1.0,\"#f0f921\"]]}],\"surface\":[{\"type\":\"surface\",\"colorbar\":{\"outlinewidth\":0,\"ticks\":\"\"},\"colorscale\":[[0.0,\"#0d0887\"],[0.1111111111111111,\"#46039f\"],[0.2222222222222222,\"#7201a8\"],[0.3333333333333333,\"#9c179e\"],[0.4444444444444444,\"#bd3786\"],[0.5555555555555556,\"#d8576b\"],[0.6666666666666666,\"#ed7953\"],[0.7777777777777778,\"#fb9f3a\"],[0.8888888888888888,\"#fdca26\"],[1.0,\"#f0f921\"]]}],\"mesh3d\":[{\"type\":\"mesh3d\",\"colorbar\":{\"outlinewidth\":0,\"ticks\":\"\"}}],\"scatter\":[{\"fillpattern\":{\"fillmode\":\"overlay\",\"size\":10,\"solidity\":0.2},\"type\":\"scatter\"}],\"parcoords\":[{\"type\":\"parcoords\",\"line\":{\"colorbar\":{\"outlinewidth\":0,\"ticks\":\"\"}}}],\"scatterpolargl\":[{\"type\":\"scatterpolargl\",\"marker\":{\"colorbar\":{\"outlinewidth\":0,\"ticks\":\"\"}}}],\"bar\":[{\"error_x\":{\"color\":\"#2a3f5f\"},\"error_y\":{\"color\":\"#2a3f5f\"},\"marker\":{\"line\":{\"color\":\"#E5ECF6\",\"width\":0.5},\"pattern\":{\"fillmode\":\"overlay\",\"size\":10,\"solidity\":0.2}},\"type\":\"bar\"}],\"scattergeo\":[{\"type\":\"scattergeo\",\"marker\":{\"colorbar\":{\"outlinewidth\":0,\"ticks\":\"\"}}}],\"scatterpolar\":[{\"type\":\"scatterpolar\",\"marker\":{\"colorbar\":{\"outlinewidth\":0,\"ticks\":\"\"}}}],\"histogram\":[{\"marker\":{\"pattern\":{\"fillmode\":\"overlay\",\"size\":10,\"solidity\":0.2}},\"type\":\"histogram\"}],\"scattergl\":[{\"type\":\"scattergl\",\"marker\":{\"colorbar\":{\"outlinewidth\":0,\"ticks\":\"\"}}}],\"scatter3d\":[{\"type\":\"scatter3d\",\"line\":{\"colorbar\":{\"outlinewidth\":0,\"ticks\":\"\"}},\"marker\":{\"colorbar\":{\"outlinewidth\":0,\"ticks\":\"\"}}}],\"scattermapbox\":[{\"type\":\"scattermapbox\",\"marker\":{\"colorbar\":{\"outlinewidth\":0,\"ticks\":\"\"}}}],\"scatterternary\":[{\"type\":\"scatterternary\",\"marker\":{\"colorbar\":{\"outlinewidth\":0,\"ticks\":\"\"}}}],\"scattercarpet\":[{\"type\":\"scattercarpet\",\"marker\":{\"colorbar\":{\"outlinewidth\":0,\"ticks\":\"\"}}}],\"carpet\":[{\"aaxis\":{\"endlinecolor\":\"#2a3f5f\",\"gridcolor\":\"white\",\"linecolor\":\"white\",\"minorgridcolor\":\"white\",\"startlinecolor\":\"#2a3f5f\"},\"baxis\":{\"endlinecolor\":\"#2a3f5f\",\"gridcolor\":\"white\",\"linecolor\":\"white\",\"minorgridcolor\":\"white\",\"startlinecolor\":\"#2a3f5f\"},\"type\":\"carpet\"}],\"table\":[{\"cells\":{\"fill\":{\"color\":\"#EBF0F8\"},\"line\":{\"color\":\"white\"}},\"header\":{\"fill\":{\"color\":\"#C8D4E3\"},\"line\":{\"color\":\"white\"}},\"type\":\"table\"}],\"barpolar\":[{\"marker\":{\"line\":{\"color\":\"#E5ECF6\",\"width\":0.5},\"pattern\":{\"fillmode\":\"overlay\",\"size\":10,\"solidity\":0.2}},\"type\":\"barpolar\"}],\"pie\":[{\"automargin\":true,\"type\":\"pie\"}]},\"layout\":{\"autotypenumbers\":\"strict\",\"colorway\":[\"#636efa\",\"#EF553B\",\"#00cc96\",\"#ab63fa\",\"#FFA15A\",\"#19d3f3\",\"#FF6692\",\"#B6E880\",\"#FF97FF\",\"#FECB52\"],\"font\":{\"color\":\"#2a3f5f\"},\"hovermode\":\"closest\",\"hoverlabel\":{\"align\":\"left\"},\"paper_bgcolor\":\"white\",\"plot_bgcolor\":\"#E5ECF6\",\"polar\":{\"bgcolor\":\"#E5ECF6\",\"angularaxis\":{\"gridcolor\":\"white\",\"linecolor\":\"white\",\"ticks\":\"\"},\"radialaxis\":{\"gridcolor\":\"white\",\"linecolor\":\"white\",\"ticks\":\"\"}},\"ternary\":{\"bgcolor\":\"#E5ECF6\",\"aaxis\":{\"gridcolor\":\"white\",\"linecolor\":\"white\",\"ticks\":\"\"},\"baxis\":{\"gridcolor\":\"white\",\"linecolor\":\"white\",\"ticks\":\"\"},\"caxis\":{\"gridcolor\":\"white\",\"linecolor\":\"white\",\"ticks\":\"\"}},\"coloraxis\":{\"colorbar\":{\"outlinewidth\":0,\"ticks\":\"\"}},\"colorscale\":{\"sequential\":[[0.0,\"#0d0887\"],[0.1111111111111111,\"#46039f\"],[0.2222222222222222,\"#7201a8\"],[0.3333333333333333,\"#9c179e\"],[0.4444444444444444,\"#bd3786\"],[0.5555555555555556,\"#d8576b\"],[0.6666666666666666,\"#ed7953\"],[0.7777777777777778,\"#fb9f3a\"],[0.8888888888888888,\"#fdca26\"],[1.0,\"#f0f921\"]],\"sequentialminus\":[[0.0,\"#0d0887\"],[0.1111111111111111,\"#46039f\"],[0.2222222222222222,\"#7201a8\"],[0.3333333333333333,\"#9c179e\"],[0.4444444444444444,\"#bd3786\"],[0.5555555555555556,\"#d8576b\"],[0.6666666666666666,\"#ed7953\"],[0.7777777777777778,\"#fb9f3a\"],[0.8888888888888888,\"#fdca26\"],[1.0,\"#f0f921\"]],\"diverging\":[[0,\"#8e0152\"],[0.1,\"#c51b7d\"],[0.2,\"#de77ae\"],[0.3,\"#f1b6da\"],[0.4,\"#fde0ef\"],[0.5,\"#f7f7f7\"],[0.6,\"#e6f5d0\"],[0.7,\"#b8e186\"],[0.8,\"#7fbc41\"],[0.9,\"#4d9221\"],[1,\"#276419\"]]},\"xaxis\":{\"gridcolor\":\"white\",\"linecolor\":\"white\",\"ticks\":\"\",\"title\":{\"standoff\":15},\"zerolinecolor\":\"white\",\"automargin\":true,\"zerolinewidth\":2},\"yaxis\":{\"gridcolor\":\"white\",\"linecolor\":\"white\",\"ticks\":\"\",\"title\":{\"standoff\":15},\"zerolinecolor\":\"white\",\"automargin\":true,\"zerolinewidth\":2},\"scene\":{\"xaxis\":{\"backgroundcolor\":\"#E5ECF6\",\"gridcolor\":\"white\",\"linecolor\":\"white\",\"showbackground\":true,\"ticks\":\"\",\"zerolinecolor\":\"white\",\"gridwidth\":2},\"yaxis\":{\"backgroundcolor\":\"#E5ECF6\",\"gridcolor\":\"white\",\"linecolor\":\"white\",\"showbackground\":true,\"ticks\":\"\",\"zerolinecolor\":\"white\",\"gridwidth\":2},\"zaxis\":{\"backgroundcolor\":\"#E5ECF6\",\"gridcolor\":\"white\",\"linecolor\":\"white\",\"showbackground\":true,\"ticks\":\"\",\"zerolinecolor\":\"white\",\"gridwidth\":2}},\"shapedefaults\":{\"line\":{\"color\":\"#2a3f5f\"}},\"annotationdefaults\":{\"arrowcolor\":\"#2a3f5f\",\"arrowhead\":0,\"arrowwidth\":1},\"geo\":{\"bgcolor\":\"white\",\"landcolor\":\"#E5ECF6\",\"subunitcolor\":\"white\",\"showland\":true,\"showlakes\":true,\"lakecolor\":\"white\"},\"title\":{\"x\":0.05},\"mapbox\":{\"style\":\"light\"}}},\"xaxis\":{\"anchor\":\"y\",\"domain\":[0.0,1.0],\"title\":{\"text\":\"Importance\"}},\"yaxis\":{\"anchor\":\"x\",\"domain\":[0.0,1.0],\"title\":{\"text\":\"Feature\"}},\"legend\":{\"tracegroupgap\":0},\"title\":{\"text\":\"Feature Importance Plot for Random Forest Model\"},\"barmode\":\"relative\"},                        {\"responsive\": true}                    ).then(function(){\n",
              "                            \n",
              "var gd = document.getElementById('fbe3487b-7f93-40bc-ba35-2e2719557227');\n",
              "var x = new MutationObserver(function (mutations, observer) {{\n",
              "        var display = window.getComputedStyle(gd).display;\n",
              "        if (!display || display === 'none') {{\n",
              "            console.log([gd, 'removed!']);\n",
              "            Plotly.purge(gd);\n",
              "            observer.disconnect();\n",
              "        }}\n",
              "}});\n",
              "\n",
              "// Listen for the removal of the full notebook cells\n",
              "var notebookContainer = gd.closest('#notebook-container');\n",
              "if (notebookContainer) {{\n",
              "    x.observe(notebookContainer, {childList: true});\n",
              "}}\n",
              "\n",
              "// Listen for the clearing of the current output cell\n",
              "var outputEl = gd.closest('.output');\n",
              "if (outputEl) {{\n",
              "    x.observe(outputEl, {childList: true});\n",
              "}}\n",
              "\n",
              "                        })                };                            </script>        </div>\n",
              "</body>\n",
              "</html>"
            ]
          },
          "metadata": {}
        }
      ]
    },
    {
      "cell_type": "code",
      "source": [
        "# Create a sorted DataFrame by importance values\n",
        "feature_importances_dt = feature_importances_dt.sort_values(by='Importance', ascending=False)\n",
        "\n",
        "feature_importances_dt = feature_importances_dt[::-1]\n",
        "\n",
        "# Plot the feature importance values using Plotly Express\n",
        "fig = px.bar(feature_importances_dt, x='Importance', y='Feature', orientation='h',\n",
        "             title='Feature Importance Plot for Decision Tree Model',\n",
        "             labels={'Importance': 'Importance', 'Feature': 'Feature'})\n",
        "fig.show()"
      ],
      "metadata": {
        "colab": {
          "base_uri": "https://localhost:8080/",
          "height": 542
        },
        "id": "r29wI_24gm5H",
        "outputId": "2074dc2e-f719-424c-ce6a-4a29cec09f01"
      },
      "execution_count": 303,
      "outputs": [
        {
          "output_type": "display_data",
          "data": {
            "text/html": [
              "<html>\n",
              "<head><meta charset=\"utf-8\" /></head>\n",
              "<body>\n",
              "    <div>            <script src=\"https://cdnjs.cloudflare.com/ajax/libs/mathjax/2.7.5/MathJax.js?config=TeX-AMS-MML_SVG\"></script><script type=\"text/javascript\">if (window.MathJax && window.MathJax.Hub && window.MathJax.Hub.Config) {window.MathJax.Hub.Config({SVG: {font: \"STIX-Web\"}});}</script>                <script type=\"text/javascript\">window.PlotlyConfig = {MathJaxConfig: 'local'};</script>\n",
              "        <script charset=\"utf-8\" src=\"https://cdn.plot.ly/plotly-2.24.1.min.js\"></script>                <div id=\"a814fc58-11b3-4e5f-bc3c-066dee6f9f6e\" class=\"plotly-graph-div\" style=\"height:525px; width:100%;\"></div>            <script type=\"text/javascript\">                                    window.PLOTLYENV=window.PLOTLYENV || {};                                    if (document.getElementById(\"a814fc58-11b3-4e5f-bc3c-066dee6f9f6e\")) {                    Plotly.newPlot(                        \"a814fc58-11b3-4e5f-bc3c-066dee6f9f6e\",                        [{\"alignmentgroup\":\"True\",\"hovertemplate\":\"Importance=%{x}\\u003cbr\\u003eFeature=%{y}\\u003cextra\\u003e\\u003c\\u002fextra\\u003e\",\"legendgroup\":\"\",\"marker\":{\"color\":\"#636efa\",\"pattern\":{\"shape\":\"\"}},\"name\":\"\",\"offsetgroup\":\"\",\"orientation\":\"h\",\"showlegend\":false,\"textposition\":\"auto\",\"x\":[0.0,0.0,0.0018686640105057336,0.006278593698062635,0.018406887498401206,0.06099485411550919,0.06632183262812767,0.06993867148468152,0.13131764104542595,0.2956943253334703,0.3491785301858156],\"xaxis\":\"x\",\"y\":[\"Valence\",\"Speechiness\",\"Liveness\",\"Duration (ms)\",\"Tempo\",\"Loudness\",\"Energy\",\"Acousticness\",\"Danceability\",\"Artist Followers\",\"Day of Year\"],\"yaxis\":\"y\",\"type\":\"bar\"}],                        {\"template\":{\"data\":{\"histogram2dcontour\":[{\"type\":\"histogram2dcontour\",\"colorbar\":{\"outlinewidth\":0,\"ticks\":\"\"},\"colorscale\":[[0.0,\"#0d0887\"],[0.1111111111111111,\"#46039f\"],[0.2222222222222222,\"#7201a8\"],[0.3333333333333333,\"#9c179e\"],[0.4444444444444444,\"#bd3786\"],[0.5555555555555556,\"#d8576b\"],[0.6666666666666666,\"#ed7953\"],[0.7777777777777778,\"#fb9f3a\"],[0.8888888888888888,\"#fdca26\"],[1.0,\"#f0f921\"]]}],\"choropleth\":[{\"type\":\"choropleth\",\"colorbar\":{\"outlinewidth\":0,\"ticks\":\"\"}}],\"histogram2d\":[{\"type\":\"histogram2d\",\"colorbar\":{\"outlinewidth\":0,\"ticks\":\"\"},\"colorscale\":[[0.0,\"#0d0887\"],[0.1111111111111111,\"#46039f\"],[0.2222222222222222,\"#7201a8\"],[0.3333333333333333,\"#9c179e\"],[0.4444444444444444,\"#bd3786\"],[0.5555555555555556,\"#d8576b\"],[0.6666666666666666,\"#ed7953\"],[0.7777777777777778,\"#fb9f3a\"],[0.8888888888888888,\"#fdca26\"],[1.0,\"#f0f921\"]]}],\"heatmap\":[{\"type\":\"heatmap\",\"colorbar\":{\"outlinewidth\":0,\"ticks\":\"\"},\"colorscale\":[[0.0,\"#0d0887\"],[0.1111111111111111,\"#46039f\"],[0.2222222222222222,\"#7201a8\"],[0.3333333333333333,\"#9c179e\"],[0.4444444444444444,\"#bd3786\"],[0.5555555555555556,\"#d8576b\"],[0.6666666666666666,\"#ed7953\"],[0.7777777777777778,\"#fb9f3a\"],[0.8888888888888888,\"#fdca26\"],[1.0,\"#f0f921\"]]}],\"heatmapgl\":[{\"type\":\"heatmapgl\",\"colorbar\":{\"outlinewidth\":0,\"ticks\":\"\"},\"colorscale\":[[0.0,\"#0d0887\"],[0.1111111111111111,\"#46039f\"],[0.2222222222222222,\"#7201a8\"],[0.3333333333333333,\"#9c179e\"],[0.4444444444444444,\"#bd3786\"],[0.5555555555555556,\"#d8576b\"],[0.6666666666666666,\"#ed7953\"],[0.7777777777777778,\"#fb9f3a\"],[0.8888888888888888,\"#fdca26\"],[1.0,\"#f0f921\"]]}],\"contourcarpet\":[{\"type\":\"contourcarpet\",\"colorbar\":{\"outlinewidth\":0,\"ticks\":\"\"}}],\"contour\":[{\"type\":\"contour\",\"colorbar\":{\"outlinewidth\":0,\"ticks\":\"\"},\"colorscale\":[[0.0,\"#0d0887\"],[0.1111111111111111,\"#46039f\"],[0.2222222222222222,\"#7201a8\"],[0.3333333333333333,\"#9c179e\"],[0.4444444444444444,\"#bd3786\"],[0.5555555555555556,\"#d8576b\"],[0.6666666666666666,\"#ed7953\"],[0.7777777777777778,\"#fb9f3a\"],[0.8888888888888888,\"#fdca26\"],[1.0,\"#f0f921\"]]}],\"surface\":[{\"type\":\"surface\",\"colorbar\":{\"outlinewidth\":0,\"ticks\":\"\"},\"colorscale\":[[0.0,\"#0d0887\"],[0.1111111111111111,\"#46039f\"],[0.2222222222222222,\"#7201a8\"],[0.3333333333333333,\"#9c179e\"],[0.4444444444444444,\"#bd3786\"],[0.5555555555555556,\"#d8576b\"],[0.6666666666666666,\"#ed7953\"],[0.7777777777777778,\"#fb9f3a\"],[0.8888888888888888,\"#fdca26\"],[1.0,\"#f0f921\"]]}],\"mesh3d\":[{\"type\":\"mesh3d\",\"colorbar\":{\"outlinewidth\":0,\"ticks\":\"\"}}],\"scatter\":[{\"fillpattern\":{\"fillmode\":\"overlay\",\"size\":10,\"solidity\":0.2},\"type\":\"scatter\"}],\"parcoords\":[{\"type\":\"parcoords\",\"line\":{\"colorbar\":{\"outlinewidth\":0,\"ticks\":\"\"}}}],\"scatterpolargl\":[{\"type\":\"scatterpolargl\",\"marker\":{\"colorbar\":{\"outlinewidth\":0,\"ticks\":\"\"}}}],\"bar\":[{\"error_x\":{\"color\":\"#2a3f5f\"},\"error_y\":{\"color\":\"#2a3f5f\"},\"marker\":{\"line\":{\"color\":\"#E5ECF6\",\"width\":0.5},\"pattern\":{\"fillmode\":\"overlay\",\"size\":10,\"solidity\":0.2}},\"type\":\"bar\"}],\"scattergeo\":[{\"type\":\"scattergeo\",\"marker\":{\"colorbar\":{\"outlinewidth\":0,\"ticks\":\"\"}}}],\"scatterpolar\":[{\"type\":\"scatterpolar\",\"marker\":{\"colorbar\":{\"outlinewidth\":0,\"ticks\":\"\"}}}],\"histogram\":[{\"marker\":{\"pattern\":{\"fillmode\":\"overlay\",\"size\":10,\"solidity\":0.2}},\"type\":\"histogram\"}],\"scattergl\":[{\"type\":\"scattergl\",\"marker\":{\"colorbar\":{\"outlinewidth\":0,\"ticks\":\"\"}}}],\"scatter3d\":[{\"type\":\"scatter3d\",\"line\":{\"colorbar\":{\"outlinewidth\":0,\"ticks\":\"\"}},\"marker\":{\"colorbar\":{\"outlinewidth\":0,\"ticks\":\"\"}}}],\"scattermapbox\":[{\"type\":\"scattermapbox\",\"marker\":{\"colorbar\":{\"outlinewidth\":0,\"ticks\":\"\"}}}],\"scatterternary\":[{\"type\":\"scatterternary\",\"marker\":{\"colorbar\":{\"outlinewidth\":0,\"ticks\":\"\"}}}],\"scattercarpet\":[{\"type\":\"scattercarpet\",\"marker\":{\"colorbar\":{\"outlinewidth\":0,\"ticks\":\"\"}}}],\"carpet\":[{\"aaxis\":{\"endlinecolor\":\"#2a3f5f\",\"gridcolor\":\"white\",\"linecolor\":\"white\",\"minorgridcolor\":\"white\",\"startlinecolor\":\"#2a3f5f\"},\"baxis\":{\"endlinecolor\":\"#2a3f5f\",\"gridcolor\":\"white\",\"linecolor\":\"white\",\"minorgridcolor\":\"white\",\"startlinecolor\":\"#2a3f5f\"},\"type\":\"carpet\"}],\"table\":[{\"cells\":{\"fill\":{\"color\":\"#EBF0F8\"},\"line\":{\"color\":\"white\"}},\"header\":{\"fill\":{\"color\":\"#C8D4E3\"},\"line\":{\"color\":\"white\"}},\"type\":\"table\"}],\"barpolar\":[{\"marker\":{\"line\":{\"color\":\"#E5ECF6\",\"width\":0.5},\"pattern\":{\"fillmode\":\"overlay\",\"size\":10,\"solidity\":0.2}},\"type\":\"barpolar\"}],\"pie\":[{\"automargin\":true,\"type\":\"pie\"}]},\"layout\":{\"autotypenumbers\":\"strict\",\"colorway\":[\"#636efa\",\"#EF553B\",\"#00cc96\",\"#ab63fa\",\"#FFA15A\",\"#19d3f3\",\"#FF6692\",\"#B6E880\",\"#FF97FF\",\"#FECB52\"],\"font\":{\"color\":\"#2a3f5f\"},\"hovermode\":\"closest\",\"hoverlabel\":{\"align\":\"left\"},\"paper_bgcolor\":\"white\",\"plot_bgcolor\":\"#E5ECF6\",\"polar\":{\"bgcolor\":\"#E5ECF6\",\"angularaxis\":{\"gridcolor\":\"white\",\"linecolor\":\"white\",\"ticks\":\"\"},\"radialaxis\":{\"gridcolor\":\"white\",\"linecolor\":\"white\",\"ticks\":\"\"}},\"ternary\":{\"bgcolor\":\"#E5ECF6\",\"aaxis\":{\"gridcolor\":\"white\",\"linecolor\":\"white\",\"ticks\":\"\"},\"baxis\":{\"gridcolor\":\"white\",\"linecolor\":\"white\",\"ticks\":\"\"},\"caxis\":{\"gridcolor\":\"white\",\"linecolor\":\"white\",\"ticks\":\"\"}},\"coloraxis\":{\"colorbar\":{\"outlinewidth\":0,\"ticks\":\"\"}},\"colorscale\":{\"sequential\":[[0.0,\"#0d0887\"],[0.1111111111111111,\"#46039f\"],[0.2222222222222222,\"#7201a8\"],[0.3333333333333333,\"#9c179e\"],[0.4444444444444444,\"#bd3786\"],[0.5555555555555556,\"#d8576b\"],[0.6666666666666666,\"#ed7953\"],[0.7777777777777778,\"#fb9f3a\"],[0.8888888888888888,\"#fdca26\"],[1.0,\"#f0f921\"]],\"sequentialminus\":[[0.0,\"#0d0887\"],[0.1111111111111111,\"#46039f\"],[0.2222222222222222,\"#7201a8\"],[0.3333333333333333,\"#9c179e\"],[0.4444444444444444,\"#bd3786\"],[0.5555555555555556,\"#d8576b\"],[0.6666666666666666,\"#ed7953\"],[0.7777777777777778,\"#fb9f3a\"],[0.8888888888888888,\"#fdca26\"],[1.0,\"#f0f921\"]],\"diverging\":[[0,\"#8e0152\"],[0.1,\"#c51b7d\"],[0.2,\"#de77ae\"],[0.3,\"#f1b6da\"],[0.4,\"#fde0ef\"],[0.5,\"#f7f7f7\"],[0.6,\"#e6f5d0\"],[0.7,\"#b8e186\"],[0.8,\"#7fbc41\"],[0.9,\"#4d9221\"],[1,\"#276419\"]]},\"xaxis\":{\"gridcolor\":\"white\",\"linecolor\":\"white\",\"ticks\":\"\",\"title\":{\"standoff\":15},\"zerolinecolor\":\"white\",\"automargin\":true,\"zerolinewidth\":2},\"yaxis\":{\"gridcolor\":\"white\",\"linecolor\":\"white\",\"ticks\":\"\",\"title\":{\"standoff\":15},\"zerolinecolor\":\"white\",\"automargin\":true,\"zerolinewidth\":2},\"scene\":{\"xaxis\":{\"backgroundcolor\":\"#E5ECF6\",\"gridcolor\":\"white\",\"linecolor\":\"white\",\"showbackground\":true,\"ticks\":\"\",\"zerolinecolor\":\"white\",\"gridwidth\":2},\"yaxis\":{\"backgroundcolor\":\"#E5ECF6\",\"gridcolor\":\"white\",\"linecolor\":\"white\",\"showbackground\":true,\"ticks\":\"\",\"zerolinecolor\":\"white\",\"gridwidth\":2},\"zaxis\":{\"backgroundcolor\":\"#E5ECF6\",\"gridcolor\":\"white\",\"linecolor\":\"white\",\"showbackground\":true,\"ticks\":\"\",\"zerolinecolor\":\"white\",\"gridwidth\":2}},\"shapedefaults\":{\"line\":{\"color\":\"#2a3f5f\"}},\"annotationdefaults\":{\"arrowcolor\":\"#2a3f5f\",\"arrowhead\":0,\"arrowwidth\":1},\"geo\":{\"bgcolor\":\"white\",\"landcolor\":\"#E5ECF6\",\"subunitcolor\":\"white\",\"showland\":true,\"showlakes\":true,\"lakecolor\":\"white\"},\"title\":{\"x\":0.05},\"mapbox\":{\"style\":\"light\"}}},\"xaxis\":{\"anchor\":\"y\",\"domain\":[0.0,1.0],\"title\":{\"text\":\"Importance\"}},\"yaxis\":{\"anchor\":\"x\",\"domain\":[0.0,1.0],\"title\":{\"text\":\"Feature\"}},\"legend\":{\"tracegroupgap\":0},\"title\":{\"text\":\"Feature Importance Plot for Decision Tree Model\"},\"barmode\":\"relative\"},                        {\"responsive\": true}                    ).then(function(){\n",
              "                            \n",
              "var gd = document.getElementById('a814fc58-11b3-4e5f-bc3c-066dee6f9f6e');\n",
              "var x = new MutationObserver(function (mutations, observer) {{\n",
              "        var display = window.getComputedStyle(gd).display;\n",
              "        if (!display || display === 'none') {{\n",
              "            console.log([gd, 'removed!']);\n",
              "            Plotly.purge(gd);\n",
              "            observer.disconnect();\n",
              "        }}\n",
              "}});\n",
              "\n",
              "// Listen for the removal of the full notebook cells\n",
              "var notebookContainer = gd.closest('#notebook-container');\n",
              "if (notebookContainer) {{\n",
              "    x.observe(notebookContainer, {childList: true});\n",
              "}}\n",
              "\n",
              "// Listen for the clearing of the current output cell\n",
              "var outputEl = gd.closest('.output');\n",
              "if (outputEl) {{\n",
              "    x.observe(outputEl, {childList: true});\n",
              "}}\n",
              "\n",
              "                        })                };                            </script>        </div>\n",
              "</body>\n",
              "</html>"
            ]
          },
          "metadata": {}
        }
      ]
    },
    {
      "cell_type": "code",
      "source": [
        "# Create a sorted DataFrame by importance values\n",
        "feature_importances_xgb = feature_importances_xgb.sort_values(by='Importance', ascending=False)\n",
        "\n",
        "feature_importances_xgb = feature_importances_xgb[::-1]\n",
        "\n",
        "# Plot the feature importance values using Plotly Express\n",
        "fig = px.bar(feature_importances_xgb, x='Importance', y='Feature', orientation='h',\n",
        "             title='Feature Importance Plot for XG Boost Model',\n",
        "             labels={'Importance': 'Importance', 'Feature': 'Feature'})\n",
        "fig.show()"
      ],
      "metadata": {
        "colab": {
          "base_uri": "https://localhost:8080/",
          "height": 542
        },
        "id": "K9UwwuZrgoe6",
        "outputId": "564bdb3e-7f60-4506-98f3-3ac48baecb44"
      },
      "execution_count": 304,
      "outputs": [
        {
          "output_type": "display_data",
          "data": {
            "text/html": [
              "<html>\n",
              "<head><meta charset=\"utf-8\" /></head>\n",
              "<body>\n",
              "    <div>            <script src=\"https://cdnjs.cloudflare.com/ajax/libs/mathjax/2.7.5/MathJax.js?config=TeX-AMS-MML_SVG\"></script><script type=\"text/javascript\">if (window.MathJax && window.MathJax.Hub && window.MathJax.Hub.Config) {window.MathJax.Hub.Config({SVG: {font: \"STIX-Web\"}});}</script>                <script type=\"text/javascript\">window.PlotlyConfig = {MathJaxConfig: 'local'};</script>\n",
              "        <script charset=\"utf-8\" src=\"https://cdn.plot.ly/plotly-2.24.1.min.js\"></script>                <div id=\"58d8fc99-0b19-4599-9696-17f7971a372e\" class=\"plotly-graph-div\" style=\"height:525px; width:100%;\"></div>            <script type=\"text/javascript\">                                    window.PLOTLYENV=window.PLOTLYENV || {};                                    if (document.getElementById(\"58d8fc99-0b19-4599-9696-17f7971a372e\")) {                    Plotly.newPlot(                        \"58d8fc99-0b19-4599-9696-17f7971a372e\",                        [{\"alignmentgroup\":\"True\",\"hovertemplate\":\"Importance=%{x}\\u003cbr\\u003eFeature=%{y}\\u003cextra\\u003e\\u003c\\u002fextra\\u003e\",\"legendgroup\":\"\",\"marker\":{\"color\":\"#636efa\",\"pattern\":{\"shape\":\"\"}},\"name\":\"\",\"offsetgroup\":\"\",\"orientation\":\"h\",\"showlegend\":false,\"textposition\":\"auto\",\"x\":[0.05294376239180565,0.053785160183906555,0.05611593648791313,0.06529086083173752,0.0722702220082283,0.07867865264415741,0.08500965684652328,0.09923818707466125,0.10295940935611725,0.12426045536994934,0.2094476819038391],\"xaxis\":\"x\",\"y\":[\"Energy\",\"Danceability\",\"Valence\",\"Loudness\",\"Speechiness\",\"Tempo\",\"Acousticness\",\"Liveness\",\"Duration (ms)\",\"Artist Followers\",\"Day of Year\"],\"yaxis\":\"y\",\"type\":\"bar\"}],                        {\"template\":{\"data\":{\"histogram2dcontour\":[{\"type\":\"histogram2dcontour\",\"colorbar\":{\"outlinewidth\":0,\"ticks\":\"\"},\"colorscale\":[[0.0,\"#0d0887\"],[0.1111111111111111,\"#46039f\"],[0.2222222222222222,\"#7201a8\"],[0.3333333333333333,\"#9c179e\"],[0.4444444444444444,\"#bd3786\"],[0.5555555555555556,\"#d8576b\"],[0.6666666666666666,\"#ed7953\"],[0.7777777777777778,\"#fb9f3a\"],[0.8888888888888888,\"#fdca26\"],[1.0,\"#f0f921\"]]}],\"choropleth\":[{\"type\":\"choropleth\",\"colorbar\":{\"outlinewidth\":0,\"ticks\":\"\"}}],\"histogram2d\":[{\"type\":\"histogram2d\",\"colorbar\":{\"outlinewidth\":0,\"ticks\":\"\"},\"colorscale\":[[0.0,\"#0d0887\"],[0.1111111111111111,\"#46039f\"],[0.2222222222222222,\"#7201a8\"],[0.3333333333333333,\"#9c179e\"],[0.4444444444444444,\"#bd3786\"],[0.5555555555555556,\"#d8576b\"],[0.6666666666666666,\"#ed7953\"],[0.7777777777777778,\"#fb9f3a\"],[0.8888888888888888,\"#fdca26\"],[1.0,\"#f0f921\"]]}],\"heatmap\":[{\"type\":\"heatmap\",\"colorbar\":{\"outlinewidth\":0,\"ticks\":\"\"},\"colorscale\":[[0.0,\"#0d0887\"],[0.1111111111111111,\"#46039f\"],[0.2222222222222222,\"#7201a8\"],[0.3333333333333333,\"#9c179e\"],[0.4444444444444444,\"#bd3786\"],[0.5555555555555556,\"#d8576b\"],[0.6666666666666666,\"#ed7953\"],[0.7777777777777778,\"#fb9f3a\"],[0.8888888888888888,\"#fdca26\"],[1.0,\"#f0f921\"]]}],\"heatmapgl\":[{\"type\":\"heatmapgl\",\"colorbar\":{\"outlinewidth\":0,\"ticks\":\"\"},\"colorscale\":[[0.0,\"#0d0887\"],[0.1111111111111111,\"#46039f\"],[0.2222222222222222,\"#7201a8\"],[0.3333333333333333,\"#9c179e\"],[0.4444444444444444,\"#bd3786\"],[0.5555555555555556,\"#d8576b\"],[0.6666666666666666,\"#ed7953\"],[0.7777777777777778,\"#fb9f3a\"],[0.8888888888888888,\"#fdca26\"],[1.0,\"#f0f921\"]]}],\"contourcarpet\":[{\"type\":\"contourcarpet\",\"colorbar\":{\"outlinewidth\":0,\"ticks\":\"\"}}],\"contour\":[{\"type\":\"contour\",\"colorbar\":{\"outlinewidth\":0,\"ticks\":\"\"},\"colorscale\":[[0.0,\"#0d0887\"],[0.1111111111111111,\"#46039f\"],[0.2222222222222222,\"#7201a8\"],[0.3333333333333333,\"#9c179e\"],[0.4444444444444444,\"#bd3786\"],[0.5555555555555556,\"#d8576b\"],[0.6666666666666666,\"#ed7953\"],[0.7777777777777778,\"#fb9f3a\"],[0.8888888888888888,\"#fdca26\"],[1.0,\"#f0f921\"]]}],\"surface\":[{\"type\":\"surface\",\"colorbar\":{\"outlinewidth\":0,\"ticks\":\"\"},\"colorscale\":[[0.0,\"#0d0887\"],[0.1111111111111111,\"#46039f\"],[0.2222222222222222,\"#7201a8\"],[0.3333333333333333,\"#9c179e\"],[0.4444444444444444,\"#bd3786\"],[0.5555555555555556,\"#d8576b\"],[0.6666666666666666,\"#ed7953\"],[0.7777777777777778,\"#fb9f3a\"],[0.8888888888888888,\"#fdca26\"],[1.0,\"#f0f921\"]]}],\"mesh3d\":[{\"type\":\"mesh3d\",\"colorbar\":{\"outlinewidth\":0,\"ticks\":\"\"}}],\"scatter\":[{\"fillpattern\":{\"fillmode\":\"overlay\",\"size\":10,\"solidity\":0.2},\"type\":\"scatter\"}],\"parcoords\":[{\"type\":\"parcoords\",\"line\":{\"colorbar\":{\"outlinewidth\":0,\"ticks\":\"\"}}}],\"scatterpolargl\":[{\"type\":\"scatterpolargl\",\"marker\":{\"colorbar\":{\"outlinewidth\":0,\"ticks\":\"\"}}}],\"bar\":[{\"error_x\":{\"color\":\"#2a3f5f\"},\"error_y\":{\"color\":\"#2a3f5f\"},\"marker\":{\"line\":{\"color\":\"#E5ECF6\",\"width\":0.5},\"pattern\":{\"fillmode\":\"overlay\",\"size\":10,\"solidity\":0.2}},\"type\":\"bar\"}],\"scattergeo\":[{\"type\":\"scattergeo\",\"marker\":{\"colorbar\":{\"outlinewidth\":0,\"ticks\":\"\"}}}],\"scatterpolar\":[{\"type\":\"scatterpolar\",\"marker\":{\"colorbar\":{\"outlinewidth\":0,\"ticks\":\"\"}}}],\"histogram\":[{\"marker\":{\"pattern\":{\"fillmode\":\"overlay\",\"size\":10,\"solidity\":0.2}},\"type\":\"histogram\"}],\"scattergl\":[{\"type\":\"scattergl\",\"marker\":{\"colorbar\":{\"outlinewidth\":0,\"ticks\":\"\"}}}],\"scatter3d\":[{\"type\":\"scatter3d\",\"line\":{\"colorbar\":{\"outlinewidth\":0,\"ticks\":\"\"}},\"marker\":{\"colorbar\":{\"outlinewidth\":0,\"ticks\":\"\"}}}],\"scattermapbox\":[{\"type\":\"scattermapbox\",\"marker\":{\"colorbar\":{\"outlinewidth\":0,\"ticks\":\"\"}}}],\"scatterternary\":[{\"type\":\"scatterternary\",\"marker\":{\"colorbar\":{\"outlinewidth\":0,\"ticks\":\"\"}}}],\"scattercarpet\":[{\"type\":\"scattercarpet\",\"marker\":{\"colorbar\":{\"outlinewidth\":0,\"ticks\":\"\"}}}],\"carpet\":[{\"aaxis\":{\"endlinecolor\":\"#2a3f5f\",\"gridcolor\":\"white\",\"linecolor\":\"white\",\"minorgridcolor\":\"white\",\"startlinecolor\":\"#2a3f5f\"},\"baxis\":{\"endlinecolor\":\"#2a3f5f\",\"gridcolor\":\"white\",\"linecolor\":\"white\",\"minorgridcolor\":\"white\",\"startlinecolor\":\"#2a3f5f\"},\"type\":\"carpet\"}],\"table\":[{\"cells\":{\"fill\":{\"color\":\"#EBF0F8\"},\"line\":{\"color\":\"white\"}},\"header\":{\"fill\":{\"color\":\"#C8D4E3\"},\"line\":{\"color\":\"white\"}},\"type\":\"table\"}],\"barpolar\":[{\"marker\":{\"line\":{\"color\":\"#E5ECF6\",\"width\":0.5},\"pattern\":{\"fillmode\":\"overlay\",\"size\":10,\"solidity\":0.2}},\"type\":\"barpolar\"}],\"pie\":[{\"automargin\":true,\"type\":\"pie\"}]},\"layout\":{\"autotypenumbers\":\"strict\",\"colorway\":[\"#636efa\",\"#EF553B\",\"#00cc96\",\"#ab63fa\",\"#FFA15A\",\"#19d3f3\",\"#FF6692\",\"#B6E880\",\"#FF97FF\",\"#FECB52\"],\"font\":{\"color\":\"#2a3f5f\"},\"hovermode\":\"closest\",\"hoverlabel\":{\"align\":\"left\"},\"paper_bgcolor\":\"white\",\"plot_bgcolor\":\"#E5ECF6\",\"polar\":{\"bgcolor\":\"#E5ECF6\",\"angularaxis\":{\"gridcolor\":\"white\",\"linecolor\":\"white\",\"ticks\":\"\"},\"radialaxis\":{\"gridcolor\":\"white\",\"linecolor\":\"white\",\"ticks\":\"\"}},\"ternary\":{\"bgcolor\":\"#E5ECF6\",\"aaxis\":{\"gridcolor\":\"white\",\"linecolor\":\"white\",\"ticks\":\"\"},\"baxis\":{\"gridcolor\":\"white\",\"linecolor\":\"white\",\"ticks\":\"\"},\"caxis\":{\"gridcolor\":\"white\",\"linecolor\":\"white\",\"ticks\":\"\"}},\"coloraxis\":{\"colorbar\":{\"outlinewidth\":0,\"ticks\":\"\"}},\"colorscale\":{\"sequential\":[[0.0,\"#0d0887\"],[0.1111111111111111,\"#46039f\"],[0.2222222222222222,\"#7201a8\"],[0.3333333333333333,\"#9c179e\"],[0.4444444444444444,\"#bd3786\"],[0.5555555555555556,\"#d8576b\"],[0.6666666666666666,\"#ed7953\"],[0.7777777777777778,\"#fb9f3a\"],[0.8888888888888888,\"#fdca26\"],[1.0,\"#f0f921\"]],\"sequentialminus\":[[0.0,\"#0d0887\"],[0.1111111111111111,\"#46039f\"],[0.2222222222222222,\"#7201a8\"],[0.3333333333333333,\"#9c179e\"],[0.4444444444444444,\"#bd3786\"],[0.5555555555555556,\"#d8576b\"],[0.6666666666666666,\"#ed7953\"],[0.7777777777777778,\"#fb9f3a\"],[0.8888888888888888,\"#fdca26\"],[1.0,\"#f0f921\"]],\"diverging\":[[0,\"#8e0152\"],[0.1,\"#c51b7d\"],[0.2,\"#de77ae\"],[0.3,\"#f1b6da\"],[0.4,\"#fde0ef\"],[0.5,\"#f7f7f7\"],[0.6,\"#e6f5d0\"],[0.7,\"#b8e186\"],[0.8,\"#7fbc41\"],[0.9,\"#4d9221\"],[1,\"#276419\"]]},\"xaxis\":{\"gridcolor\":\"white\",\"linecolor\":\"white\",\"ticks\":\"\",\"title\":{\"standoff\":15},\"zerolinecolor\":\"white\",\"automargin\":true,\"zerolinewidth\":2},\"yaxis\":{\"gridcolor\":\"white\",\"linecolor\":\"white\",\"ticks\":\"\",\"title\":{\"standoff\":15},\"zerolinecolor\":\"white\",\"automargin\":true,\"zerolinewidth\":2},\"scene\":{\"xaxis\":{\"backgroundcolor\":\"#E5ECF6\",\"gridcolor\":\"white\",\"linecolor\":\"white\",\"showbackground\":true,\"ticks\":\"\",\"zerolinecolor\":\"white\",\"gridwidth\":2},\"yaxis\":{\"backgroundcolor\":\"#E5ECF6\",\"gridcolor\":\"white\",\"linecolor\":\"white\",\"showbackground\":true,\"ticks\":\"\",\"zerolinecolor\":\"white\",\"gridwidth\":2},\"zaxis\":{\"backgroundcolor\":\"#E5ECF6\",\"gridcolor\":\"white\",\"linecolor\":\"white\",\"showbackground\":true,\"ticks\":\"\",\"zerolinecolor\":\"white\",\"gridwidth\":2}},\"shapedefaults\":{\"line\":{\"color\":\"#2a3f5f\"}},\"annotationdefaults\":{\"arrowcolor\":\"#2a3f5f\",\"arrowhead\":0,\"arrowwidth\":1},\"geo\":{\"bgcolor\":\"white\",\"landcolor\":\"#E5ECF6\",\"subunitcolor\":\"white\",\"showland\":true,\"showlakes\":true,\"lakecolor\":\"white\"},\"title\":{\"x\":0.05},\"mapbox\":{\"style\":\"light\"}}},\"xaxis\":{\"anchor\":\"y\",\"domain\":[0.0,1.0],\"title\":{\"text\":\"Importance\"}},\"yaxis\":{\"anchor\":\"x\",\"domain\":[0.0,1.0],\"title\":{\"text\":\"Feature\"}},\"legend\":{\"tracegroupgap\":0},\"title\":{\"text\":\"Feature Importance Plot for XG Boost Model\"},\"barmode\":\"relative\"},                        {\"responsive\": true}                    ).then(function(){\n",
              "                            \n",
              "var gd = document.getElementById('58d8fc99-0b19-4599-9696-17f7971a372e');\n",
              "var x = new MutationObserver(function (mutations, observer) {{\n",
              "        var display = window.getComputedStyle(gd).display;\n",
              "        if (!display || display === 'none') {{\n",
              "            console.log([gd, 'removed!']);\n",
              "            Plotly.purge(gd);\n",
              "            observer.disconnect();\n",
              "        }}\n",
              "}});\n",
              "\n",
              "// Listen for the removal of the full notebook cells\n",
              "var notebookContainer = gd.closest('#notebook-container');\n",
              "if (notebookContainer) {{\n",
              "    x.observe(notebookContainer, {childList: true});\n",
              "}}\n",
              "\n",
              "// Listen for the clearing of the current output cell\n",
              "var outputEl = gd.closest('.output');\n",
              "if (outputEl) {{\n",
              "    x.observe(outputEl, {childList: true});\n",
              "}}\n",
              "\n",
              "                        })                };                            </script>        </div>\n",
              "</body>\n",
              "</html>"
            ]
          },
          "metadata": {}
        }
      ]
    },
    {
      "cell_type": "markdown",
      "source": [
        "In conclusion, the lowest RMSE values are for a decision tree model with a depth of three and an XG Boost model with a depth of one. The RMSEs for these models range between 1.5 to 1.6 million streams. XG Boost also consistently keeps all feature importances above at least 5% whereas the random forest and decision tree models have features that have zero importance depending on the training set. Given all of that, I prefer the XG Boost with a depth of one model."
      ],
      "metadata": {
        "id": "W9BlbfWJ5KqC"
      }
    },
    {
      "cell_type": "markdown",
      "source": [
        "##What's next?"
      ],
      "metadata": {
        "id": "TLVOOD1c6fJl"
      }
    },
    {
      "cell_type": "markdown",
      "source": [
        "I mentioned above how I encoded the chord feature, but it didn't improve the model. Encoding other variables, particularly genre, might yield a lower RMSE. More precise data apropos the streams feature could be useful as well. If we were able to see streams for a set period after release, that could indicate popularity better than a cumulative number where older songs have a built-in advantage."
      ],
      "metadata": {
        "id": "I3jjoC7B6iA-"
      }
    }
  ]
}